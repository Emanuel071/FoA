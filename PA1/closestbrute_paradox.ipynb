{
  "cells": [
    {
      "cell_type": "markdown",
      "metadata": {
        "id": "baXbq8ixZnpT"
      },
      "source": [
        "# The Brute Force Paradox\n",
        "\n",
        "Copyright Johns Hopkins University.  Not for distribution online or by any other means.\n",
        "\n",
        "Adapted from a submission from a student in Foundations of Algorithms, 605.621.\n",
        "\n",
        "## Closest Points\n",
        "\n",
        "Given the task of finding the closest pair of points in a two-dimensional plane, students were tasked with implementing a brute force algorithm, but making at least one change to improve its runtime down from $\\Theta(n^2)$.  Usually, brute force iterates over all pairs of points by way of a doubly nested ``for`` loop.  They were also asked to implement the closest points divide-and-conquer approach in the CLRS textbook that has a runtime of $O(n\\log n)$.\n",
        "\n",
        "To improve the brute force method, one clever student had the idea to sort the list of points beforehand by x value.  When processing point i, and in the loop that pairs i with all other points j, if the x difference between i and j is greater than the current minimum distance, then stop processing j and subsequent points.  Instead, *skip ahead* to the next i.  In this way, since all points following j have a greater x value, there is no need to consider them.\n",
        "\n",
        "Students were directed to do testing against random points in a list of increasing size, from 3 to N points, and plotting/comparing brute force skip-ahead performance against divide-and-conquer.\n",
        "\n",
        "## The Paradox\n",
        "The submission in question did such a comparison, but the plot showed very similar asymptotic performance to CLRS.  It seemed that no matter how the points were randomized, the skip-ahead program always performed about the same as the divide-and-conquer.  This seemed crazy; we are always taught that $n\\log n$ beats $n^2$, so why is the plot telling us otherwise?  Also, the plot seemed unstable - repeated trials showed near equal performance to divide-and-conquer, but sometimes the performance spiked a little bit high.  What is going on here? \n",
        "\n",
        "# Resolving the Paradox\n",
        "It turns out that there is a reason for this happening.  The goal of this notebook is to help explore the nature of that phenomena.\n",
        "\n",
        "# Instructions to Students\n",
        "This is **not** an assignment that you need to turn in.  Instead, it is a tool to explore the phenomena, and help you with a homework problem.  The brute force implementation is given; if you prefer, you may paste in your CLRS implementation to experiment on similar sets of points, but you don't need to."
      ]
    },
    {
      "cell_type": "markdown",
      "metadata": {
        "id": "AWWXlpzDZnpc"
      },
      "source": [
        "# Closest Pairs\n",
        "Below is the implementation of the improved brute force algorithm, along with some instructor data structures and functions.\n",
        "\n"
      ]
    },
    {
      "cell_type": "markdown",
      "metadata": {
        "id": "xBhwSTUr5zyq"
      },
      "source": [
        "## Instructor Data Structures and Helpers\n",
        "\n",
        "These are data structures used in this notebook."
      ]
    },
    {
      "cell_type": "code",
      "execution_count": null,
      "metadata": {
        "id": "1y8pHzTrZnpf"
      },
      "outputs": [
        {
          "ename": "",
          "evalue": "",
          "output_type": "error",
          "traceback": [
            "\u001b[1;31mRunning cells with 'Python 3.7.8 64-bit' requires ipykernel package.\n",
            "Run the following command to install 'ipykernel' into the Python environment. \n",
            "Command: 'C:/Users/Emanuel/AppData/Local/Programs/Python/Python37/python.exe -m pip install ipykernel -U --user --force-reinstall'"
          ]
        }
      ],
      "source": [
        "############################################################################\n",
        "# INSTRUCTOR DATA STRUCTURES\n",
        "# If you change these, don't break the instructor test block.\n",
        "############################################################################\n",
        "# Decorator example for counting function calls, adapted from \n",
        "# https://stackoverflow.com/a/21717396/8542716\n",
        "def call_counter(f):\n",
        "    \"\"\"\n",
        "    Adds a \".calls\" variable to the function that increments w/every call.\n",
        "    Set it to zero between iterations.  \n",
        "    Example:\n",
        "        @call_counter\n",
        "        def sumallbelow(x):\n",
        "          if x<1:\n",
        "            return 0\n",
        "          return x + sumallbelow(x-1)\n",
        "        \n",
        "        ...\n",
        "        sumallbelow.calls = 0 # reset before any use\n",
        "        print(f\"The sum up to 4 is: {sumallbelow(4)}\")\n",
        "        print(f\"and the call counts are {sumallbelow.calls}\")\n",
        "\n",
        "    \"\"\"\n",
        "    def wrapped(*args, **kwargs): # deal with any/all arguments\n",
        "        wrapped.calls += 1\n",
        "        return f(*args, **kwargs) # call the real function here\n",
        "    wrapped.calls = 0\n",
        "    return wrapped\n",
        "\n",
        "class debugprint(object):\n",
        "  \"\"\"\n",
        "  A debug print decorator useful for tracing the flow of recursive functions.\n",
        "  It adds a \"debugprint\" method to each function call, that increases the \n",
        "  number of spaces on each call before printing the output.\n",
        "\n",
        "  To use, add @debugprint on top of your function.  Then, within your function\n",
        "  foo, put foo.debugprint(\"whatever\"), and it will print \"whatever\" with \n",
        "  several spaces in front of it.  Recursive calls add to the spaces.  Enable\n",
        "  with \"debugprint.enabled = True\", and disable w/False.\n",
        "\n",
        "  There's also a counter called \".calls,\" which you reset like the counter\n",
        "  decorator above.  Note, enabling/disabling does not affect the counter; the\n",
        "  counter is always counting.\n",
        "\n",
        "  Example:\n",
        "      @debugprint\n",
        "      def fib(N):\n",
        "        fib.debugprint(f\"inside fib({N})\")\n",
        "        if N<2:\n",
        "          fib.debugprint(f\"returning {N}\")\n",
        "          return N\n",
        "        fib.debugprint(f\"returning fib({N-1}) + fib({N-2})\")\n",
        "        return fib(N-1) + fib(N-2)\n",
        "\n",
        "      # toggle this on/off as needed\n",
        "      fib.enabled, fib.calls = True, 0\n",
        "      print(f\"The 3rd Fibonacci number is {fib(3)}\")\n",
        "      print(f\"Number of calls is {fib.calls}\")\n",
        "\n",
        "  Output:\n",
        "      inside fib(3)\n",
        "      returning fib(2) + fib(1)\n",
        "        inside fib(2)\n",
        "        returning fib(1) + fib(0)\n",
        "          inside fib(1)\n",
        "          returning 1\n",
        "          inside fib(0)\n",
        "          returning 0\n",
        "        inside fib(1)\n",
        "        returning 1\n",
        "      The 3rd Fibonacci number is 2\n",
        "      Number of calls is 5\n",
        "\n",
        "  Adapted from https://stackoverflow.com/a/862915/\n",
        "  Also adding a calls counter because I cannot combine decorators\n",
        "  \"\"\"\n",
        "  calls = 0\n",
        "  enabled = False\n",
        "  space = \"\"\n",
        "  def __init__(self, func):\n",
        "    self.func = func\n",
        "  def __call__(self, *args, **kwargs):\n",
        "    if self.enabled:\n",
        "      # print 'Entering', self.func.func_name \n",
        "      # print '    args:', args, kwargs\n",
        "      pass\n",
        "    self.space += \"  \"\n",
        "    self.calls += 1\n",
        "    result = self.func(*args, **kwargs)\n",
        "    self.space = self.space[:-2]\n",
        "    return result\n",
        "  def debugprint(self, *args, **kwargs):\n",
        "    if self.enabled:\n",
        "      print(self.space+\" \".join(map(str,args)), **kwargs)\n",
        "\n",
        "class Point(object):\n",
        "    \"\"\"\n",
        "    Data structure for points.  Methods include P.x, P.y and other Pythonisms\n",
        "    necessary to use with sets, tuples, etc.\n",
        "    \"\"\"\n",
        "    def __init__(self, x, y): \n",
        "        self.x = x \n",
        "        self.y = y\n",
        "    def __repr__(self):\n",
        "        return f\"Point({self.x},{self.y})\" \n",
        "    def __eq__(self, other): # need both eq and hash if you want to use sets\n",
        "        return self.x == other.x and self.y == other.y\n",
        "    def __hash__(self):\n",
        "        return hash((self.x, self.y))\n",
        "    def __iter__(self): # required to convert to tuple\n",
        "        for i in [self.x, self.y]:\n",
        "          yield i"
      ]
    },
    {
      "cell_type": "markdown",
      "metadata": {
        "id": "H8y5LZ9XZnpf"
      },
      "source": [
        "## Brute Force Improved\n",
        "Here is the implementation in question.  Notice that the call counts are on the distance function itself; to be fair, we must also include the calls to the sort function, which is captured through an external key function to keep track of comparison operations.\n",
        "\n",
        "Also, if called w/debugging=True, it prints ``breaking`` whenever it decides to skip the remaining points j, or ``computing`` if computing the distance.  Use this sparingly, but you should see a mix of both in a random run.\n",
        "\n",
        "\n",
        "\n",
        "\n"
      ]
    },
    {
      "cell_type": "code",
      "execution_count": null,
      "metadata": {
        "id": "xYEZEBwOZnpg"
      },
      "outputs": [
        {
          "ename": "",
          "evalue": "",
          "output_type": "error",
          "traceback": [
            "\u001b[1;31mRunning cells with 'Python 3.7.8 64-bit' requires ipykernel package.\n",
            "Run the following command to install 'ipykernel' into the Python environment. \n",
            "Command: 'C:/Users/Emanuel/AppData/Local/Programs/Python/Python37/python.exe -m pip install ipykernel -U --user --force-reinstall'"
          ]
        }
      ],
      "source": [
        "from math import sqrt\n",
        "\n",
        "############################################################################\n",
        "# STUDENT IMPLEMENTATION BLOCK - Brute Force Improved\n",
        "############################################################################\n",
        "# Student Euclidean Distance Function\n",
        "@call_counter  # adds calls attribute to functions\n",
        "def dist(p1, p2):\n",
        "    \"\"\"\n",
        "    Return the Euclidean distance between the two given points\n",
        "\n",
        "    p1, p2 are Points\n",
        "    \"\"\"\n",
        "    d_x = p1.x - p2.x\n",
        "    d_y = p1.y - p2.y\n",
        "    d = sqrt(d_x**2 + d_y**2)\n",
        "    return d\n",
        "\n",
        "@call_counter\n",
        "def mysortkey(p):\n",
        "    \"\"\"\n",
        "    Purpose of this is to trip a call counter every time Python's sort makes\n",
        "    a comparison.\n",
        "    \"\"\"\n",
        "    return p.x\n",
        "\n",
        "# Implementation of Student Closest Points algorithm\n",
        "def closestPairBrute(points, debug=False):  # Preserve the function name and arguments\n",
        "    \"\"\"\n",
        "    This is the Brute Force Improved n^2 implementation. This implementation first sorts\n",
        "    the given list of points using Python's sort, then uses horizontal distance to determine\n",
        "    whether the distance function needs to be called on a pair of points. There are two \n",
        "    improvements to this algorithm compared to the brute force algorithm:\n",
        "    \n",
        "        1. The horizontal distance is first computed to see if the distance function\n",
        "           even needs to be called. Since the horizontal distance and vertical distance\n",
        "           form a triangle with the Euclidean distance between two points, we can use\n",
        "           the property that the hypotenuse of a triangle is always longer than either \n",
        "           leg of the triangle. \n",
        "        2. The points are sorted by x-value before finding the closest pair of points. \n",
        "           Since we are using horizontal distance to determine whether to call the \n",
        "           distance function, once we find that the horizontal distance exceeds the \n",
        "           current minimum distance, we no longer need to compare the first of these\n",
        "           points with any other points later in the list (points with larger x-values).\n",
        "    \n",
        "    Return the two closest points, the Euclidean distance between them, and the number\n",
        "    of times the dist() function was called.\n",
        "    \n",
        "    points is an array of Points\n",
        "    \"\"\"    \n",
        "    # Sort the list of points by x-value\n",
        "    points.sort(key=lambda pt: pt.x)\n",
        "    mysortkey.calls = 0\n",
        "    points.sort(key=mysortkey) # to count the steps of the sort function\n",
        "\n",
        "    # Find the closest points\n",
        "    dist.calls = 0\n",
        "    # Maintain dist as part of a tuple w/points that make that distance\n",
        "    min_tuple = (None, None, float('inf')) # p1, p2, and dist(p1, p2)\n",
        "    for i in range(len(points)):\n",
        "        for j in range(i+1, len(points)):\n",
        "            min_dist = min_tuple[2]\n",
        "            # If the horizontal distance between point[i] and point[j] is \n",
        "            # greater than min_dist, move on to the next value of i\n",
        "            if points[j].x - points[i].x >= min_dist:\n",
        "                if debug: print(\"breaking\")\n",
        "                break\n",
        "            else:\n",
        "              if debug: print(\"computing distance\")\n",
        "              cur_tuple = (points[i], points[j], dist(points[i], points[j]))\n",
        "              min_tuple = min(min_tuple, cur_tuple, key=lambda t: t[2]) # min of dist\n",
        "    p1, p2, min_dist = min_tuple\n",
        "    return p1, p2, min_dist, dist.calls + mysortkey.calls"
      ]
    },
    {
      "cell_type": "markdown",
      "metadata": {
        "id": "wpqv5vE1xtcW"
      },
      "source": [
        "## CLRS Algorithm\n",
        "\n",
        "This is for the closest pair of points described in the CLRS textbook, 3rd ed, in section 33.4.  Input and output will be as with the brute force method, but runs in $n\\log(n)$ time.\n",
        "\n",
        "Feel free to paste your own CLRS implementation in here.  Maintain the supplied function signatures, to remain compatible with test code further on.  You don't need to, but in case you want to experiment with different points, please do so."
      ]
    },
    {
      "cell_type": "code",
      "execution_count": null,
      "metadata": {
        "id": "kGinINFuleLj"
      },
      "outputs": [
        {
          "ename": "",
          "evalue": "",
          "output_type": "error",
          "traceback": [
            "\u001b[1;31mRunning cells with 'Python 3.7.8 64-bit' requires ipykernel package.\n",
            "Run the following command to install 'ipykernel' into the Python environment. \n",
            "Command: 'C:/Users/Emanuel/AppData/Local/Programs/Python/Python37/python.exe -m pip install ipykernel -U --user --force-reinstall'"
          ]
        }
      ],
      "source": [
        "# STUDENT RECURSIVE FUNCTION GOES HERE\n",
        "\n",
        "def closestPairRecursive(X, Y):\n",
        "    \"\"\"\n",
        "    Returns the closest pairs of Points in X, the distance between these two\n",
        "    points, and the number of calls to dist(). This function implements the \n",
        "    divide/conquer/combine algorithm described in CLRS, where we recurse on \n",
        "    the left and right half of X, then consider a 2-delta width from the \n",
        "    center in order to find the closest Euclidean pair.\n",
        "    \n",
        "    X is an array of Points, sorted by x-value\n",
        "    Y is the same array of Points, but sorted on y-value\n",
        "    \"\"\"\n",
        "    return Point(0,0), Point(0,0), 0, 0"
      ]
    },
    {
      "cell_type": "code",
      "execution_count": null,
      "metadata": {
        "id": "BmVjjwGqzkp5"
      },
      "outputs": [
        {
          "ename": "",
          "evalue": "",
          "output_type": "error",
          "traceback": [
            "\u001b[1;31mRunning cells with 'Python 3.7.8 64-bit' requires ipykernel package.\n",
            "Run the following command to install 'ipykernel' into the Python environment. \n",
            "Command: 'C:/Users/Emanuel/AppData/Local/Programs/Python/Python37/python.exe -m pip install ipykernel -U --user --force-reinstall'"
          ]
        }
      ],
      "source": [
        "############################################################################\n",
        "# STUDENT IMPLEMENTATION BLOCK - CLRS\n",
        "############################################################################\n",
        "# Implementation of Student Closest Points algorithm\n",
        "def closestPairCLRS(points):  # Preserve the function name and arguments\n",
        "    \"\"\"\n",
        "    This is the kickoff function to the recursive function explained in CLRS.\n",
        "    It does the sorting of the given Points prior to calling the recursive\n",
        "    function, and returns the final output of the recursive function: the \n",
        "    two closest points, distance between them, and number of calls to dist()\n",
        "    \n",
        "    points is an array of Points\n",
        "    \"\"\"\n",
        "    # Sort the array of points by x-value, and separately by y-value\n",
        "    X = sorted(points, key=lambda pt: pt.x)\n",
        "    Y = sorted(points, key=lambda pt: pt.y)\n",
        "    \n",
        "    dist.calls = 0\n",
        "    return closestPairRecursive(X, Y)"
      ]
    },
    {
      "cell_type": "markdown",
      "metadata": {
        "id": "QHl7XoYVZnph"
      },
      "source": [
        "## Experiment Area\n",
        "Here is where experiments can be run."
      ]
    },
    {
      "cell_type": "markdown",
      "metadata": {
        "id": "iE9GQTpxe_Du"
      },
      "source": [
        "### Data Collection\n",
        "This runs repeated tests over input sizes N to collect data for the plot section."
      ]
    },
    {
      "cell_type": "code",
      "execution_count": null,
      "metadata": {
        "id": "b8LQTRqHsosy"
      },
      "outputs": [
        {
          "ename": "",
          "evalue": "",
          "output_type": "error",
          "traceback": [
            "\u001b[1;31mRunning cells with 'Python 3.7.8 64-bit' requires ipykernel package.\n",
            "Run the following command to install 'ipykernel' into the Python environment. \n",
            "Command: 'C:/Users/Emanuel/AppData/Local/Programs/Python/Python37/python.exe -m pip install ipykernel -U --user --force-reinstall'"
          ]
        }
      ],
      "source": [
        "from os import setuid\n",
        "from random import randint\n",
        "\n",
        "def getRuntime(func, inp):\n",
        "  \"\"\"\n",
        "  Return the number of calls to dist() made to find the closest pair of \n",
        "  points using the given function and input array.\n",
        "  \n",
        "  func is the function to call (either closestPairBrute or closestPairCLRS)\n",
        "  inp is array of points\n",
        "  \"\"\"\n",
        "  try:\n",
        "      dist.calls=0\n",
        "      tup = func(inp) # p1, p2, dist, calls\n",
        "      p1, p2, d, dc = tup\n",
        "      return dc\n",
        "  except Exception as e:\n",
        "      print(\" \")\n",
        "      print(\"======== EXCEPTION ======== EXCEPTION ======== EXCEPTION\")\n",
        "      print(\"========\",e)\n",
        "\n",
        "        \n",
        "def generateTestData(n, max_coord, worst=False):\n",
        "    \"\"\"\n",
        "    Update to repeat trials \"worst\" times to find something bad for brute force,\n",
        "    then get the counts based on that.\n",
        "    \"\"\"\n",
        "    mybrutecounts = []\n",
        "    myCLRScounts = []\n",
        "        \n",
        "    for input_len in range(n):\n",
        "      mbf = (0,[])\n",
        "      rand_points = []\n",
        "      if worst:\n",
        "        pass\n",
        "      else:\n",
        "        # random set of points (no duplicates)\n",
        "        rset = set()\n",
        "        while len(rset) < input_len: \n",
        "            x, y = randint(0,max_coord), randint(0,max_coord)\n",
        "            rset.add(Point(x, y))\n",
        "        rand_points = list(rset)\n",
        "      # Run both functions on the randomly-generated input to get the number of calls to dist()\n",
        "      bftot = getRuntime(closestPairBrute, rand_points)\n",
        "      mbf = max(mbf, (bftot, rand_points), key=lambda t: t[0])\n",
        "      rand_points = mbf[1]\n",
        "      if input_len==6: # just a spot-check\n",
        "          rand_points.sort(key=lambda p: p.x)\n",
        "          print(rand_points)\n",
        "          print([d2.x-d1.x for d1, d2 in zip(rand_points, rand_points[1:])])\n",
        "          _ = closestPairBrute(rand_points, True) # just to print it out\n",
        "      mybrutecounts.append(getRuntime(closestPairBrute, rand_points))\n",
        "      myCLRScounts.append(getRuntime(closestPairCLRS, rand_points))\n",
        "\n",
        "    return mybrutecounts, myCLRScounts\n",
        "\n",
        "# Just run this to generate the unfiltered output.  Then, if you want, \n",
        "# implement your worst case guess under \"if worst:\" in the code block above,\n",
        "# put in code to simulate the worst case for the algorithm, then change\n",
        "# False to True down here:\n",
        "mybrutecounts, myCLRScounts = generateTestData(200, 1000, False)\n",
        "print(mybrutecounts[:10])\n",
        "print(myCLRScounts[:10])\n"
      ]
    },
    {
      "cell_type": "markdown",
      "metadata": {
        "id": "kdpHJd9YN8L5"
      },
      "source": [
        "### Plot\n",
        "Here is the plot."
      ]
    },
    {
      "cell_type": "code",
      "execution_count": null,
      "metadata": {
        "colab": {
          "base_uri": "https://localhost:8080/",
          "height": 391
        },
        "id": "DXyYN7SsD0-e",
        "outputId": "0b691d72-704f-4e89-c3cb-06d88470d959"
      },
      "outputs": [
        {
          "ename": "",
          "evalue": "",
          "output_type": "error",
          "traceback": [
            "\u001b[1;31mRunning cells with 'Python 3.7.8 64-bit' requires ipykernel package.\n",
            "Run the following command to install 'ipykernel' into the Python environment. \n",
            "Command: 'C:/Users/Emanuel/AppData/Local/Programs/Python/Python37/python.exe -m pip install ipykernel -U --user --force-reinstall'"
          ]
        }
      ],
      "source": [
        "# Code adapted from Sahil Sharma, used with permission, from Spring, 2021\n",
        "\n",
        "from math import pow\n",
        "from math import log2\n",
        "from math import factorial\n",
        "\n",
        "# REQUIRES mybrutecounts, myCLRScounts set above\n",
        "N=len(mybrutecounts)\n",
        "\n",
        "# benchmark data set generation\n",
        "yTestVals1 = [0,] # linear for O(n)\n",
        "yTestVals2 = [0,] # 1/3*n*log(n) for O(n/3*log(n))\n",
        "yTestVals3 = [0,] # 2/3*n*log(n) for O(2n/3*log(n))\n",
        "yTestVals4 = [0,] # n*log(n) for O(nlog(n))\n",
        "yTestVals5 = [0,] # quadratic for O(n^2)\n",
        "\n",
        "# generate bench mark data for O(n), O(3n/2), O(n/2*log(n)), O(nlog(n)), and O(n^2)\n",
        "for i in range(2, N+1):\n",
        "    # UPDATE THE COEFFICIENTS TO THESE FUNCTIONS TO BRING SOME IN \"TIGHT\" TO\n",
        "    # THE BRUTE FORCE, and some to the CLRS, or add others.\n",
        "    yTestVals1.append(i)\n",
        "    yTestVals2.append(0.3*i*log2(i))  # change this benchmark\n",
        "    yTestVals3.append(2*i/3*log2(i))\n",
        "    yTestVals4.append(i*log2(i))\n",
        "    yTestVals5.append(pow(i, 2))\n",
        "\n",
        "# %matplotlib inline\n",
        "import matplotlib.pyplot as plt\n",
        "\n",
        "# Brute vs. CLRS execution steps\n",
        "plt.rcParams['figure.figsize'] = [10,5]\n",
        "fig, (ax1) = plt.subplots(1, 1)\n",
        "fig.suptitle('Runtime Analysis', size=\"xx-large\")\n",
        "fig.patch.set_facecolor('xkcd:white')\n",
        "# plotting nearest neighbor execution steps\n",
        "ax1.set_title('Brute Improved vs. CLRS', size=\"x-large\")\n",
        "ax1.plot(range(N), mybrutecounts, \"rx-\", markersize=10, linewidth=4, label=\"Skip-Ahead Brute Counts\")\n",
        "if myCLRScounts[-1]:\n",
        "  ax1.plot(range(N), myCLRScounts, \"gx-\", markersize=10, linewidth=4, label=\"my CLRS Counts\")\n",
        "ax1.plot(range(N), yTestVals2, \"y--\", markersize=0, linewidth=5, label=\"typical CLRS counts\")\n",
        "ax1.plot(range(N), yTestVals1, \"k^-\", markersize=0, linewidth=1, label=\"benchmark O(n)\")\n",
        "ax1.plot(range(N), yTestVals3, \"m^-\", markersize=0, linewidth=1, label=\"benchmark O(2n/3*log(n))\")\n",
        "# ax1.plot(range(N), yTestVals4, \"y^-\", markersize=0, linewidth=1, label=\"benchmark O(nlog(n))\")\n",
        "ax1.plot(range(N), yTestVals5, \"b^-\", markersize=0, linewidth=1, label=\"benchmark O(n^2)\")\n",
        "ax1.grid(b=True, which='major', axis='both')\n",
        "ax1.set(xlabel = '# points in input array', ylabel = '# calls to dist()')\n",
        "ax1.legend(loc=(1.05,0.60), scatterpoints=1)\n",
        "ax1.tick_params(axis=\"both\", which=\"major\", labelsize=14)\n",
        "ax1.axis([0,N,0,0.5*N*log2(N)]) "
      ]
    },
    {
      "cell_type": "markdown",
      "metadata": {
        "id": "0fQkchVmN-R_"
      },
      "source": [
        "### Challenge Questions\n",
        "Why does the modified brute force appear to be as efficient as the known-optimal CLRS implementation?  Could it be that simply sorting the points frees us from the pesky $\\Theta(n^2)$ bound?  Or is this an exaggerated stretch of the \"O\" bound in the $O(n^2)$ asymptotic relation?\n",
        "\n",
        "\n",
        "Can you find an input that \"breaks\" it and brings it closer to its expected $n^2$ bound?  What is the general pattern of a \"bad\" input to the algorithm?  If so, would that same input affect CLRS as well?\n",
        "\n",
        "Finally, what are the tradeoffs in using the skip-ahead brute force optimization, vs. the CLRS code?  Think of one reason to use skip-ahead over CLRS.  Hint, one reason has nothing to do with asymptotic behavior."
      ]
    }
  ],
  "metadata": {
    "colab": {
      "collapsed_sections": [
        "xBhwSTUr5zyq"
      ],
      "name": "closestbrute_paradox.ipynb",
      "provenance": []
    },
    "kernelspec": {
      "display_name": "Python 3",
      "language": "python",
      "name": "python3"
    },
    "language_info": {
      "codemirror_mode": {
        "name": "ipython",
        "version": 3
      },
      "file_extension": ".py",
      "mimetype": "text/x-python",
      "name": "python",
      "nbconvert_exporter": "python",
      "pygments_lexer": "ipython3",
      "version": "3.7.8"
    }
  },
  "nbformat": 4,
  "nbformat_minor": 0
}
