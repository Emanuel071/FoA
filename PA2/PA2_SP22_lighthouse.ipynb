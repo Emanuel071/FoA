{
  "cells": [
    {
      "cell_type": "markdown",
      "metadata": {
        "id": "GHCYPcuiBBN6"
      },
      "source": [
        "Emanuel Calderon, Algorithms 605.621\n",
        "\n",
        "Copyright Johns Hopkins University.  Not for distribution online or by any other means.\n",
        "\n",
        "# Statement of Academic Integrity\n",
        "\n",
        "I, Emanuel Calderon, attempted to answer each question honestly and to the best of my abilities. I cited any and all help that I received in completing this assignment."
      ]
    },
    {
      "cell_type": "markdown",
      "metadata": {
        "id": "vFyNMDVgBBN5"
      },
      "source": [
        "# Instructions to Students\n",
        "This programming assignment is contained entirely in this IPython/Jupyter notebook. You are to read the problem from this notebook, and answer questions/make required modifications in this same notebook and submit it as a notebook.  Look for **BOLDFACE AND/OR ALL CAPS** for where to put your answers.  Do not delete the problem statements, text, etc, leave all that as-is (makes grading easier)."
      ]
    },
    {
      "cell_type": "markdown",
      "metadata": {
        "id": "b8bMJ40LBBN6"
      },
      "source": [
        "# Overview\n",
        "\n",
        "[The Maryland Lighthouse Challenge](https://cheslights.org/maryland-lighthouse-challenge/) is a biennial event where people race around the state of Maryland attempting to visit all 10 historic lighthouses and one lightship spread out among the most beautiful parts of the state.  The goal is to be the first team to visit all of the lighthouses during the challenge weekend.  An EP [professor and his wife](https://www.facebook.com/cheslights/photos/a.2861267277221280/2995180270496646/?type=1&theater) have [competed very favorably](https://cheslights.org/1st-finishers-results-2019-md-lighthouse-challenge/) in this event ;-)  \n",
        "\n",
        "<center><img src=\"https://upload.wikimedia.org/wikipedia/commons/thumb/d/d8/Hooper_Strait_Light%2C_St._Michaels%2C_Maryland.jpg/1920px-Hooper_Strait_Light%2C_St._Michaels%2C_Maryland.jpg\" width=640><br>\n",
        "<small>Hooper Strait Light, Chesapeake Maritime Museum, St. Michaels, MD (C) Wikimedia Commons</small>\n",
        "</center>\n",
        "\n",
        "The lighthouse challenge can be modeled as an instance of the *traveling salesperson problem (TSP)* that recurs frequently in networking, semiconductor layouts,and efficient routing.  This two-part problem will have you explore different strategies for identifying the fastest *tour*&mdash;the path and starting point that leads contestants to visit all lighthouses finishing at the earliest possible time, with algorithms that run in a reasonable amount of wall-clock time.\n",
        "\n",
        "In part one, you'll implement a brute-force algorithm for *solving* TSP&mdash;in our case, the fastest tour covering all the lighthouses.  Then, you will implement a fast approximation algorithm, and study the differences between the two.\n",
        "\n",
        "## Tasks\n",
        "Specifically, you must:\n",
        "\n",
        "1. Write the algorithms, in correct pseudocode notation.  \\[This part may have been assigned on a previous or concurrent homework assignment.\\]\n",
        "1. Implement both algorithms correctly, in this notebook. \n",
        "1. Compare/contrast algorithm performance.\n",
        "1. Discuss your experiences and opportunities to improve.\n",
        "\n",
        "## Requirements\n",
        "On the first algorithm, you must implement a brute-force, recursive method that finds the quickest Hamiltonian path (fewest number of hours) that visits every lighthouse in a list of lighthouses, using supplied travel times.  \n",
        "\n",
        "For the second algorithm, you must implement the approximation technique in the paper, [An Empirical Study of the Multi-Fragment Tour Construction Algorithm for the Traveling Salesman Problem](https://scholar.google.com/scholar?q=An+Empirical+Study+of+the+Multi-Fragment+Tour) by Krari *et al* that describes an interesting greedy algorithm that works by adding edges of increasing length to complete  the tour.\n",
        "\n",
        "You will compare/contrast the call counts of the two approaches, and the accuracy of the results.\n",
        "\n",
        "There are additional requirements and details further on.\n",
        "\n",
        "## Constraints\n",
        "The implementation is not collaborative.  While writing the algorithm may be a collaborative effort as indicated in one of the homework assignments, you must write your own code following the Programming Assignment Guidelines (Blackboard page Syllabus & Course Information ).  Pay careful attention to the academic integrity requirements regarding publicly available code.\n",
        "\n",
        "Use the function signatures and any data structures as supplied&mdash;do not change function signatures or introduce strange calling conventions; the instructor's tests are written assuming these function signatures.  Further, beware of strange *side effects* that may cause bad behavior on subsequent runs of the code.  Be sure to \"restart and run all\" prior to submitting your notebook, as the instructor will do the same when testing.  Points will be deducted if the instructor has to make any changes in order to run your code.\n",
        "\n",
        "The analysis and graphs must be driven with programmatically derived data, not \"hard coded\" or pasted in run counts.  An example of what **not** to do: xvals=[3, 4, 12, 15, 36, 47] /* hard coded */  Instead, xvals = [i for i in mycounts] where mycounts is an array updated through various trials you perform using your function(s).\n",
        "\n",
        "As for notebook runtimes, the notebook must never exceed an execution time of FIVE WALL-CLOCK MINUTES.  If your notebook does not execute on a cloud service, such as Google Colaboratory, on the supplied instructor inputs within this time, points will be deducted.  It likely means there's a bug in your implementation.  If you have issues with this, reach out to your instructor."
      ]
    },
    {
      "cell_type": "markdown",
      "metadata": {
        "id": "OBfR4rQXBBN8"
      },
      "source": [
        "# Lighthouse Challenge (100 pts total)\n"
      ]
    },
    {
      "cell_type": "markdown",
      "metadata": {
        "id": "pNnmdjJTQC0u"
      },
      "source": [
        "\n",
        "## Preliminaries\n",
        "\n",
        "Implement your algorithm in the Student Implementation block(s) and code to print your results. Your code must have a reasonable, consistent, style and commented documentation. It must have appropriate data structures and modularity. \n",
        "\n",
        "Your code must appear in this notebook (not as an external library).  You may create additional notebook cells as necessary.  If present, preserve the instructor input block, and do not change names of any of the instructor supplied variables or data structures - they will be used by the instructor when testing your code. Output must be clear and nicely formatted.\n",
        "\n",
        "Your code should be robust and have some error checking - we won't deliberately test for unusual/nonsense conditions, but our tests will include different data than supplied here so you want to be prepared for a variety of (well-formed) input conditions.  \n",
        "\n",
        "If present, the instructor test block will be used to test your code; if the test block runs correctly, then your code has the correct function signature, and performs well when running multiple trials.  (The instructor may change or add to the test cases during grading.)\n"
      ]
    },
    {
      "cell_type": "markdown",
      "metadata": {
        "id": "-myv7kMxBBN8"
      },
      "source": [
        "## Assumptions\n",
        "Here are some additional Lighthouse Challenge details and assumptions.\n",
        "\n",
        "The lighthouse challenge is a race to visit all lighthouses in the shortest time possible.  Your algorithm must come up with the shortest tour that visits all lighthouses.  \n",
        "\n",
        "Input includes:\n",
        "* A list of lighthouse names ``LIGHTS``\n",
        "* A travel dictionary ``TRAVEL_TIME``, indexed by two different lighthouses A and B, that returns the time in hours to drive from A to B. \n",
        "\n",
        "Your output will be an ordered list of lighthouse names&mdash;starting at the first lighthouse in the list, and ending at the last lighthouse in the list&mdash;and a travel time in hours, rounded to the nearest hundredth of an hour.\n",
        "\n",
        "Assume:\n",
        "1. The contest requires a visit of all lighthouses once; teams start at one light and end at a different light.  (\"Light\" is short for lighthouse.)\n",
        "1. There is a route from every light to every other light, although with possibly unique travel times.\n",
        "1. Teams may start at any lighthouse, and finish at any other lighthouse.  (Your algorithm must select the optimal light to start at.)\n",
        "1. Travel time from A to B is the same as the time from B to A. \n",
        "1. The best route is one that has the lowest sum total travel time, from among all possible routes.\n"
      ]
    },
    {
      "cell_type": "markdown",
      "metadata": {
        "id": "H4eAHwj3SwAn"
      },
      "source": [
        "## Instructor Data Structures and Helpers\n",
        "\n",
        "These are data structures that will be used throughout your implementation.  Although strongly cautioned against this, you can make modifications, but if present, ensure that the instructor test block functions correctly without modifications."
      ]
    },
    {
      "cell_type": "code",
      "execution_count": 2,
      "metadata": {
        "id": "aGJrx1jzBBOC"
      },
      "outputs": [],
      "source": [
        "############################################################################\n",
        "# INSTRUCTOR DATA STRUCTURES AND INITIAL TEST DATA directly relevant \n",
        "# DO NOT CHANGE THE NAMES OR SIGNATURES OF THESE STRUCTURES OR FUNCTIONS.\n",
        "############################################################################\n",
        "TRAVEL_TIME = {\n",
        "\t('Fort Washington','Choptank River')       : 2.+3./60,\n",
        "\t('Fort Washington','Hooper Strait')        : 1.+56./60,\n",
        "\t('Fort Washington','Point Lookout')        : 1.+50./60,\n",
        "\t('Fort Washington','Sandy Point')          : 1.+6./60,\n",
        "\t('Fort Washington','Cove Point')           : 1.28,\n",
        "\t('Choptank River','Hooper Strait')         : 39./60,\n",
        "\t('Choptank River','Point Lookout')         : 3.+4./60,\n",
        "\t('Choptank River','Sandy Point')           : 1.+6./60,\n",
        "\t('Choptank River','Cove Point')            : 2.+23./60,\n",
        "\t('Hooper Strait','Point Lookout')          : 2.+58./60,\n",
        "\t('Hooper Strait','Sandy Point')            : 1.+0./60,\n",
        "\t('Hooper Strait','Cove Point')             : 2.+17./60,\n",
        "\t('Point Lookout','Sandy Point')            : 2.+7./60,\n",
        "\t('Point Lookout','Cove Point')             : 46./60,\n",
        "\t('Sandy Point','Cove Point')               : 1.+27./60,\n",
        "}\n",
        "\n",
        "# Helper Functions\n",
        "def list_minus(L, x):\n",
        "    \"\"\"Returns a list of L that does not have x in it.\"\"\"\n",
        "    return list(set(L)-set([x,]))\n",
        "\n",
        "def fix_lookup(traveltime_dict):\n",
        "  \"\"\"\n",
        "  Accepts a traveltime_dict indexed by (a,b), and augments it to also be\n",
        "  indexed by (b, a).  If your algorithm wants TRAVEL_TIME[('foo', 'bar')], and \n",
        "  TRAVEL_TIME has an index only for [('bar', 'foo)], it will throw an exception.  \n",
        "  This method fixes that by duplicating keys and reversing their order.  \n",
        "  (There are Pythonic ways of doing this, such as frozensets, but that gets \n",
        "  syntactically ugly.)  Note, this method changes the input dict.\n",
        "\n",
        "  Use:\n",
        "    fix_lookup(TRAVEL_TIME)\n",
        "  \"\"\"\n",
        "  # make a temporary new dictionary w/same keys, but reversed\n",
        "  TTA = {(k[1],k[0]):traveltime_dict[k] for k in traveltime_dict.keys()}\n",
        "  traveltime_dict.update(TTA) # update the called dictionary\n",
        "\n",
        "# Global Variables - the travel time and lights structures\n",
        "fix_lookup(TRAVEL_TIME)\n",
        "LIGHTS = list(set([item for k in TRAVEL_TIME.keys() for item in k]))\n",
        "\n",
        "# Utility functions that you can use if you wish\n",
        "\n",
        "def random_lighthouses(n, mintime=1, maxtime=50):\n",
        "    \"\"\"\n",
        "    Generates a random travel dictionary and random lighthouse names.  Travel \n",
        "    times vary between mintime and maxtime tenths for each pair of lights.  It \n",
        "    returns the dictionary and list of lights.  The dictionary is ready to use \n",
        "    for your experiments.\n",
        "\n",
        "    Call with traveldict, lightlist = random_lighthouses(10)\n",
        "\n",
        "    \"\"\"\n",
        "    NAMES=[\"Alpha\", \"Bravo\", \"Charlie\", \"Delta\",  \"Echo\", \"Foxtrot\", \"Golf\", \n",
        "       \"Hotel\", \"India\", \"Juliett\", \"Kilo\", \"Lima\", \"Mike\", \"November\",\"Oscar\",\n",
        "       \"Papa\", \"Quebec\", \"Romeo\", \"Sierra\", \"Tango\", \"Uniform\", \"Victor\",\n",
        "       \"Whiskey\", \"X-ray\", \"Yankee\", \"Zulu\",]\n",
        "\n",
        "    from random import randint, shuffle\n",
        "    shuffle(NAMES)\n",
        "    pairs=[(NAMES[i],NAMES[j])for i in range(n-1) for j in range(i+1,n)]\n",
        "    TT = {pair:0.1*float(randint(mintime,maxtime)) \\\n",
        "                for pair in pairs}\n",
        "    fix_lookup(TT)\n",
        "    return TT, NAMES[:n]\n"
      ]
    },
    {
      "cell_type": "code",
      "execution_count": 3,
      "metadata": {
        "id": "Iwrj4ZdHZ7ux"
      },
      "outputs": [],
      "source": [
        "# Other instructor code and helpers (decorators, call counters)\n",
        "\n",
        "# Pretty prints a dict\n",
        "def dictstr(dict):\n",
        "    \"\"\"\n",
        "    Pretty-prints a dictionary into a string and returns it.  \n",
        "    An extraordinary hack from https://stackoverflow.com/a/36021359\n",
        "    \"\"\"\n",
        "    import json\n",
        "    dict_as_string={str(key):dict[key] for key in dict}\n",
        "    return json.dumps(dict_as_string, indent=2)\n",
        "\n",
        "# Decorator example for counting function calls, adapted from \n",
        "# https://stackoverflow.com/a/21717396/8542716\n",
        "def call_counter(f):\n",
        "    \"\"\"\n",
        "    Adds a \".calls\" variable to the function that increments w/every call.\n",
        "    Set it to zero between iterations.  \n",
        "    Example:\n",
        "        @call_counter\n",
        "        def sumallbelow(x):\n",
        "          if x<1:\n",
        "            return 0\n",
        "          return x + sumallbelow(x-1)\n",
        "        \n",
        "        ...\n",
        "        sumallbelow.calls = 0 # reset before any use\n",
        "        print(f\"The sum up to 4 is: {sumallbelow(4)}\")\n",
        "        print(f\"and the call counts are {sumallbelow.calls}\")\n",
        "\n",
        "    \"\"\"\n",
        "    def wrapped(*args, **kwargs): # deal with any/all arguments\n",
        "        wrapped.calls += 1\n",
        "        return f(*args, **kwargs) # call the real function here\n",
        "    wrapped.calls = 0\n",
        "    return wrapped\n",
        "\n",
        "class debugprint(object):\n",
        "  \"\"\"\n",
        "  A debug print decorator useful for tracing the flow of recursive functions.\n",
        "  It adds a \"debugprint\" method to each function call, that increases the \n",
        "  number of spaces on each call before printing the output.\n",
        "\n",
        "  To use, add @debugprint on top of your function.  Then, within your function\n",
        "  foo, put foo.debugprint(\"whatever\"), and it will print \"whatever\" with \n",
        "  several spaces in front of it.  Recursive calls add to the spaces.  Enable\n",
        "  with \"debugprint.enabled = True\", and disable w/False.\n",
        "\n",
        "  There's also a counter called \".calls,\" which you reset like the counter\n",
        "  decorator above.  Note, enabling/disabling does not affect the counter; the\n",
        "  counter is always counting.\n",
        "\n",
        "  Example:\n",
        "      @debugprint\n",
        "      def fib(N):\n",
        "        fib.debugprint(f\"inside fib({N})\")\n",
        "        if N<2:\n",
        "          fib.debugprint(f\"returning {N}\")\n",
        "          return N\n",
        "        fib.debugprint(f\"returning fib({N-1}) + fib({N-2})\")\n",
        "        return fib(N-1) + fib(N-2)\n",
        "\n",
        "      # toggle this on/off as needed\n",
        "      fib.enabled, fib.calls = True, 0\n",
        "      print(f\"The 3rd Fibonacci number is {fib(3)}\")\n",
        "      print(f\"Number of calls is {fib.calls}\")\n",
        "\n",
        "  Output:\n",
        "      inside fib(3)\n",
        "      returning fib(2) + fib(1)\n",
        "        inside fib(2)\n",
        "        returning fib(1) + fib(0)\n",
        "          inside fib(1)\n",
        "          returning 1\n",
        "          inside fib(0)\n",
        "          returning 0\n",
        "        inside fib(1)\n",
        "        returning 1\n",
        "      The 3rd Fibonacci number is 2\n",
        "      Number of calls is 5\n",
        "\n",
        "  Adapted from https://stackoverflow.com/a/862915/\n",
        "  Also adding a calls counter because I cannot combine decorators\n",
        "  \"\"\"\n",
        "  calls = 0\n",
        "  enabled = False\n",
        "  space = \"\"\n",
        "  def __init__(self, func):\n",
        "    self.func = func\n",
        "  def __call__(self, *args, **kwargs):\n",
        "    if self.enabled:\n",
        "      # print 'Entering', self.func.func_name \n",
        "      # print '    args:', args, kwargs\n",
        "      pass\n",
        "    self.space += \"  \"\n",
        "    self.calls += 1\n",
        "    result = self.func(*args, **kwargs)\n",
        "    self.space = self.space[:-2]\n",
        "    return result\n",
        "  def debugprint(self, *args, **kwargs):\n",
        "    if self.enabled:\n",
        "      print(self.space+\" \".join(map(str,args)), **kwargs)\n"
      ]
    },
    {
      "cell_type": "markdown",
      "metadata": {
        "id": "2o2w-goMBBOB"
      },
      "source": [
        "## Brute Force (45)\n",
        "The first task is to implement a **recursive, brute force** algorithm to select the best starting lighthouse and the best path from the starting light through the rest of the lighthouses.\n",
        "\n",
        "In particular:\n",
        "* **recursive** means a function that calls itself, and not something involving nested ``for`` or ``while`` loops.  Recursion is the easiest way to solve this problem.\n",
        "* **brute force** means it will need to try every combination at every step along the way.\n",
        "* and finally you must find the optimal starting light.\n",
        "\n",
        "Your code must enumerate all combinations.  Specifically, you are **not allowed** to make use of Python combinatoric libraries, or implement a separate combinatoric recursive generator.  It is inefficient, and the real solution is really not that hard.  (If you would like to check your work using combinatoric libraries, you can do that in a temporary cell, but just be sure to delete it prior to submission.)\n",
        "\n"
      ]
    },
    {
      "cell_type": "markdown",
      "metadata": {
        "id": "2yjpPpyY13P1"
      },
      "source": [
        "### Brute Force Implementation \n",
        "The code is structured into two pieces: a *kickoff* function to get things going&mdash;the test block will call this function&mdash;and the core recursive function that does the work.  More specifically:\n",
        "* the core recursive function will take a starting light and list of (remaining) lights, and attempt to find the next best set of lights to visit to finish the tour from that point.\n",
        "* the kickoff function must iterate through a list of starting lights and return the best tour overall and the best corresponding time.\n",
        "\n",
        "Print the best tour and time, with your program selecting the best starting lighthouse for that purpose, using the ``TRAVEL_TIME`` and ``LIGHTS`` provided in the instructor data structures block above.  (Go look at it, get familiar with it.)"
      ]
    },
    {
      "cell_type": "code",
      "execution_count": 4,
      "metadata": {
        "id": "7654rXwzBBOF"
      },
      "outputs": [],
      "source": [
        "############################################################################\n",
        "# STUDENT IMPLEMENTATION BLOCK\n",
        "############################################################################\n",
        "## Recursive Function\n",
        "@call_counter\n",
        "def fastest_tour_r(start_light, L, traveldict):\n",
        "    \"\"\"\n",
        "    This is the Recursive approach fastest_tour_r to find best time of lighthouse \n",
        "    route.  \n",
        "    Args:\n",
        "        start_light (string): name of the selected start light\n",
        "        L (array): name of all other lights in array\n",
        "        traveldict (dictionary): dictionary of travel times (L[0], L[1]) = sime time value of distance \n",
        "    \n",
        "    Returns:\n",
        "        best tour (string): lighthouses toured\n",
        "        best_time (int): time of tour\n",
        "    \"\"\"\n",
        "\n",
        "    # STUDENTS - THIS IS YOUR RECURSIVE FUNCTION - WE HAVE GIVEN SOME \n",
        "    # SUGGESTED STRUCTURE, BUT YOU ARE FREE TO ADAPT THIS AS NEEDED.\n",
        "\n",
        "    best_tour = []           # used to store the running best overall tour that starts at start_light\n",
        "    best_time = float(\"inf\") # used to store the time for the best_tour sequence\n",
        "\n",
        "    # TERMINATION CASE\n",
        "    if len(L)<2:\n",
        "        # Add code to calculate the termination case here; what do you return?\n",
        "        # returning tuple tour and time of the two lights as a float\n",
        "        return (start_light, L[0]), traveldict[(start_light, L[0])]\n",
        "    \n",
        "    # RECURSIVE CASE\n",
        "    for next_light in L:\n",
        "        # This should recursively compute all possible tours through L \n",
        "        # that begin at start_point\n",
        "        # below removes the \"next light\" from the array \n",
        "        L_minus = list_minus(L, next_light)\n",
        "\n",
        "        # recursive expresion inserting in the start light, array with the \n",
        "        # removed light & dictionary \n",
        "        parttour, parttime = fastest_tour_r(start_light, L_minus, traveldict)\n",
        "        \n",
        "        # Now finish out the calculations:\n",
        "        # Remember to add the time from your start point to second_lighthouse \n",
        "        # back into time and append start_light back onto the beginning of \n",
        "        # the tour.  Compare this result for next_light-->(rest of the list) \n",
        "        # to the previous best_tour, best_time (for all the previous \n",
        "        # potential starting points).\n",
        "        next_time = traveldict[(next_light, parttour[len(parttour)-1])] + parttime\n",
        "\n",
        "        # picks out the best time and concatination of tours \n",
        "        if next_time < best_time:\n",
        "            best_time = next_time\n",
        "            best_tour = parttour + (next_light,)   \n",
        "    \n",
        "    # print(\"here: \" + str(parttour))\n",
        "    # print(\"here2: \" + str(best_tour))\n",
        "    # print(str(best_time)\n",
        "    \n",
        "    # Tour consists of start light plus the best sub-tour from the loop above\n",
        "    return best_tour , best_time\n",
        "    \"\"\"The input for the function, return value for the base case, and return value for\"\"\"\n",
        "    \"\"\"the recursive case must match exactly.\"\"\"\n",
        "\n",
        "## Kickoff Function, and Output\n",
        "def fastest_tour(traveldict, lights):\n",
        "    \"\"\"\n",
        "    This is the kickoff function to use the fastest_tour_r to find best time of lighthouse \n",
        "    route.  \n",
        "    Args:\n",
        "        lights (array): name of all lights to travel in array\n",
        "        traveldict (dictionary): dictionary of travel times (L[0], L[1]) = sime time value of distance \n",
        "    \n",
        "    Returns:\n",
        "        best tour (string): lighthouses toured\n",
        "        best_time (int): time of tour\n",
        "    \"\"\"\n",
        "    # accepts travel dictionary of times, and list of lights.  Note, the lights\n",
        "    # must be drawn from a subset of keys in traveldict.  In plain language, \n",
        "    # the travel dict must have entries for each of the lights.\n",
        "    # Returns best tour, best time, in that order.\n",
        "\n",
        "    # try every light in \"lights\" to start with, then \n",
        "    # select and return the best tour.  Here's a stub - you want to replace with\n",
        "    # your own code that does the main work.\n",
        "    best_time = float(\"inf\")            # float set\n",
        "    #print(\"Input: \" + str(lights))      \n",
        "    fastest_tour_r.calls = 0            # resets count\n",
        "    # for loop to run through all potential start lights \n",
        "    for start_light in lights:\n",
        "        L_minus = list_minus(lights, start_light) # how to subtract a start light\n",
        "        fastest_tour_r.calls                      # starts the call count and revursive\n",
        "        tour, time = fastest_tour_r(start_light, L_minus, traveldict)\n",
        "        #print(\"i ran: \" + start_light)\n",
        "        #print(str(tour) + \" \" + str(time))\n",
        "        # picks out the best tour and time \n",
        "        if time < best_time:\n",
        "            best_time = time\n",
        "            best_tour = tour\n",
        "\n",
        "    return best_tour, best_time # preserve this output signature\n"
      ]
    },
    {
      "cell_type": "markdown",
      "metadata": {
        "id": "20KBowhP2Ah6"
      },
      "source": [
        "### Brute Force Output\n",
        "The following is the output block.  (Don't need to do anything for this, I'm just trying to keep the format consistent across assignments.)"
      ]
    },
    {
      "cell_type": "code",
      "execution_count": 5,
      "metadata": {
        "id": "zLg5x53h1_FA"
      },
      "outputs": [
        {
          "name": "stdout",
          "output_type": "stream",
          "text": [
            "The best tour is:  Choptank River, Hooper Strait, Sandy Point, Fort Washington, Cove Point, Point Lookout\n",
            "The best time is: 4.80\n",
            "The call counts are:  1236\n"
          ]
        }
      ],
      "source": [
        "# print it out here just to see it working\n",
        "best_tour, best_time = fastest_tour(TRAVEL_TIME, LIGHTS)\n",
        "print(\"The best tour is: \", ', '.join(best_tour))\n",
        "print(f\"The best time is: {best_time:0.2f}\")\n",
        "print(\"The call counts are: \", fastest_tour_r.calls)\n"
      ]
    },
    {
      "cell_type": "markdown",
      "metadata": {
        "id": "qZte0o8SmY-H"
      },
      "source": [
        "## Instructor Test Block\n",
        "\n",
        "Notebooks may have a test block, like this, that the instructor will run to evaluate the correctness of your outputs. Ensure your implementation passes this initial test. The instructor will replace the inputs, and may replace the code, but for now, you should make sure this block runs, passes tests, and does not throw exceptions."
      ]
    },
    {
      "cell_type": "code",
      "execution_count": 6,
      "metadata": {
        "id": "wwnT_0uZmXGU"
      },
      "outputs": [
        {
          "name": "stdout",
          "output_type": "stream",
          "text": [
            "Passed 10 of 10 canned tests.\n"
          ]
        }
      ],
      "source": [
        "# INSTRUCTOR TEST BLOCK\n",
        "# Pre-canned test answers for students to test against, matching specific\n",
        "# TRAVEL_TIME as set in the instructor data structures area of this notebook.\n",
        "#\n",
        "# During grading, the instructor will replace this block with something similar.\n",
        "# You are encouraged to do random testing on your own.\n",
        "\n",
        "ans={}\n",
        "ans[('Sandy Point', 'Point Lookout', 'Choptank River')] = (('Point Lookout', 'Sandy Point', 'Choptank River'),3.22)\n",
        "ans[('Cove Point', 'Sandy Point', 'Hooper Strait')] = (('Cove Point', 'Sandy Point', 'Hooper Strait'),2.45)\n",
        "ans[('Point Lookout', 'Hooper Strait', 'Fort Washington')] = (('Point Lookout', 'Fort Washington', 'Hooper Strait'),3.77)\n",
        "ans[('Point Lookout', 'Hooper Strait', 'Cove Point', 'Sandy Point')] = (('Point Lookout', 'Cove Point', 'Sandy Point', 'Hooper Strait'),3.22)\n",
        "ans[('Hooper Strait', 'Fort Washington', 'Point Lookout', 'Choptank River')] = (('Point Lookout', 'Fort Washington', 'Hooper Strait', 'Choptank River'),4.42)\n",
        "ans[('Choptank River', 'Hooper Strait', 'Fort Washington')] = (('Choptank River', 'Hooper Strait', 'Fort Washington'),2.58)\n",
        "ans[('Hooper Strait', 'Fort Washington', 'Sandy Point')] = (('Hooper Strait', 'Sandy Point', 'Fort Washington'),2.10)\n",
        "ans[('Point Lookout', 'Cove Point', 'Fort Washington')] = (('Point Lookout', 'Cove Point', 'Fort Washington'),2.05)\n",
        "ans[('Fort Washington', 'Cove Point')] = (('Fort Washington', 'Cove Point'),1.28) # special case - 2 lights\n",
        "ans[('Cove Point', 'Point Lookout', 'Fort Washington', 'Sandy Point')] = (('Point Lookout', 'Cove Point', 'Fort Washington', 'Sandy Point'),3.15)\n",
        "\n",
        "# If you would like to visualize this last test case, see here:\n",
        "# https://goo.gl/maps/Lob2GLZfzPryCUWk6\n",
        "# Any other arrangement involves backtracking.  Other cases of TSP will not\n",
        "# be as obvious.\n",
        "\n",
        "fix_lookup(TRAVEL_TIME)\n",
        "\n",
        "# exercise all the canned cases and ensure equal times to 1/100th of an hour\n",
        "passed = 0\n",
        "for k in ans.keys():\n",
        "  btour, btime = fastest_tour(TRAVEL_TIME, list(k)) # student's kickoff function\n",
        "  if (tuple(btour) == ans[k][0] or tuple(btour[::-1]) == ans[k][0]) \\\n",
        "     and abs(btime - ans[k][1]) < 0.01:\n",
        "      passed += 1\n",
        "  else:\n",
        "      print(f\"FAILED case {k}\")\n",
        "      print(f\"    got time {btime:0.2f} expected time {ans[k][1]}\")\n",
        "      print(f\"    output tour was {tuple(btour)} expected {ans[k][0]}\")\n",
        "print(f\"Passed {passed} of {len(ans)} canned tests.\")\n"
      ]
    },
    {
      "cell_type": "markdown",
      "metadata": {
        "id": "ttFpBOT2BBOJ"
      },
      "source": [
        "## Analysis (30)\n",
        "To estimate the computational complexity of your algorithm, you will need to run it against a number of different scenarios and capture a measure of the work done for each run.  Using the provided utility function, generate random sets of 3-10 lighthouses and then run your algorithm on them.  Gather the execution steps that your algorithm expends on them and then plot the results.  Finally, provide an analysis of your algorithm's running time and performance.  \n",
        "\n",
        "<font color='red'>Note, this analysis is just for the performance of the brute force algorithm.  (Multi-Factor has its own analysis section later on.)</font>\n",
        "\n",
        "As with every programming assignment this semester, *running time* implies execution steps, not clock time, versus size of the input data.  Use the counts of the ``dist()`` function as collected above, and plot over various trial cases using the graph below.  (You may use this graph code for future assignments, or you can put in your own, as long as it is reasonable.)\n",
        "\n",
        "Think: what goes on the x axis?  What goes on the y axis?  How do you modify your code above to exercise the different inputs?  Label the axes, use the right data, make this look *professional.*  Also, pay attention to the asymptotic bounds.  Compare simple to improved on the same graph.\n",
        "\n",
        "***Then, write a description below the figure of what is happening.***\n",
        "\n",
        "Please note, graphs must tell a story.  The better your graph is, the more descriptive, (appropriate scale to \"zoom in\" on the required features), the better the story it tells.  Use colors, points, symbols, a good key, good labels, make this look professional.  If you are comparing two alternatives, find a way to overlay their runs on a single graph.  Really, really try to sell me on your results.\n",
        "\n",
        "Things to consider:\n",
        "* How many points do you plot?  Notice there are too many red x's.\n",
        "* Which bounding functions do you include?  Not all of them.  Can you \"bring them in a little\" to make them tighter to your function?\n",
        "\n",
        "You may reuse this plot style on future assignments, or augment it as you wish.  Tell us a good story!  **Don't forget the writeup.**\n"
      ]
    },
    {
      "cell_type": "markdown",
      "metadata": {
        "id": "hOxr8QFz2vNb"
      },
      "source": [
        "### Data Collection\n",
        "Run repeated tests over input sizes N to collect data for your plot.  Then, modify the code in the Plot section to display these run counts."
      ]
    },
    {
      "cell_type": "code",
      "execution_count": 7,
      "metadata": {
        "id": "2nczwEIQBBOJ"
      },
      "outputs": [
        {
          "name": "stdout",
          "output_type": "stream",
          "text": [
            "The best tour is:  Victor, Foxtrot, Papa\n",
            "The best time is: 4.80\n",
            "The call counts are:  9\n",
            "The best tour is:  Juliett, Bravo, India, Oscar\n",
            "The best time is: 6.70\n",
            "The call counts are:  40\n",
            "The best tour is:  X-ray, Alpha, Victor, Quebec, India\n",
            "The best time is: 9.00\n",
            "The call counts are:  205\n",
            "The best tour is:  Hotel, Romeo, Kilo, Yankee, Juliett, Victor\n",
            "The best time is: 5.50\n",
            "The call counts are:  1236\n"
          ]
        }
      ],
      "source": [
        "# MY CODE BLOCK TO EXPERIMENT WITH 3-10 LIGHTHOUSES AND GATHER EXECUTION STEPS\n",
        "\n",
        "\n",
        "tests = 11                 # N values to run 3-10\n",
        "myfastest_tourcounts = []  # created array for call counts \n",
        "inputsize = []             # sie of random light house \n",
        "\n",
        "# runs trhough the ranged tests \n",
        "for i in range(tests):\n",
        "\n",
        "    # I dont need anything before 3 light houses \n",
        "    if i < 3:\n",
        "        fastest_tour_r.calls = 0\n",
        "        inputsize.append(i)                                 # appends for graph \n",
        "        myfastest_tourcounts.append(fastest_tour_r.calls)   # appends for graph \n",
        "    \n",
        "    # played around with this but essentially wanted to make my graph look better \n",
        "    if i > 2 and i < 7:\n",
        "\n",
        "        traveldict, lightlist = random_lighthouses(i)\n",
        "\n",
        "        best_tour, best_time = fastest_tour(traveldict, lightlist)\n",
        "        # feedback print statements to endure my outputs look good \n",
        "        print(\"The best tour is: \", ', '.join(best_tour))\n",
        "        print(f\"The best time is: {best_time:0.2f}\")\n",
        "        print(\"The call counts are: \", fastest_tour_r.calls)\n",
        "        inputsize.append(i)\n",
        "        myfastest_tourcounts.append(fastest_tour_r.calls)\n",
        "\n",
        "    else:\n",
        "        pass\n",
        "\n",
        "# below i just wanted to check that the call counts are consistent with \n",
        "# travel time and name changes of light house.\n",
        "# i = 0 \n",
        "# while i < 11:\n",
        "\n",
        "#     if i < 3:\n",
        "#         fastest_tour_r.calls = 0\n",
        "#         inputsize.append(i)\n",
        "#         myfastest_tourcounts.append(fastest_tour_r.calls)\n",
        "    \n",
        "#     if i > 2 and i < 7:\n",
        "\n",
        "#         traveldict, lightlist = random_lighthouses(4)\n",
        "\n",
        "#         best_tour, best_time = fastest_tour(traveldict, lightlist)\n",
        "#         print(\"The best tour is: \", ', '.join(best_tour))\n",
        "#         print(f\"The best time is: {best_time:0.2f}\")\n",
        "#         print(\"The call counts are: \", fastest_tour_r.calls)\n",
        "#         inputsize.append(i)\n",
        "#         myfastest_tourcounts.append(fastest_tour_r.calls)\n",
        "\n",
        "#     else:\n",
        "#         pass\n",
        "\n",
        "#     i += 1\n"
      ]
    },
    {
      "cell_type": "markdown",
      "metadata": {
        "id": "j_JqMMC2BBOK"
      },
      "source": [
        "### Plot\n",
        "Make adjustments to the code below.  Plots must tell a story."
      ]
    },
    {
      "cell_type": "code",
      "execution_count": 8,
      "metadata": {
        "id": "LIb5iG6EBBOK"
      },
      "outputs": [
        {
          "name": "stderr",
          "output_type": "stream",
          "text": [
            "C:\\Users\\Emanuel\\AppData\\Local\\Temp\\ipykernel_16752\\1176488785.py:38: MatplotlibDeprecationWarning: The 'b' parameter of grid() has been renamed 'visible' since Matplotlib 3.5; support for the old name will be dropped two minor releases later.\n",
            "  ax1.grid(b=True, which='major', axis='both')\n"
          ]
        },
        {
          "data": {
            "image/png": "[encoded data removed]",
            "text/plain": [
              "<Figure size 720x360 with 1 Axes>"
            ]
          },
          "metadata": {
            "needs_background": "light"
          },
          "output_type": "display_data"
        }
      ],
      "source": [
        "# Code adapted from Sahil Sharma, used with permission, from Spring, 2021\n",
        "\n",
        "from math import pow\n",
        "from math import log2\n",
        "from math import factorial\n",
        "\n",
        "# Let myruncounts[i] be count of calls for POINT array of size i\n",
        "myruncounts = myfastest_tourcounts # your data here\n",
        "\n",
        "# benchmark data set generation\n",
        "yTestVals1 = [0,] # linear for O(n)\n",
        "yTestVals2 = [0,] # quadratic for O(n^2)\n",
        "yTestVals3 = [0,] # n*log(n) for O(nlog(n))\n",
        "yTestVals4 = [0,] # 5*n*log(n) for O(nlog(n))\n",
        "\n",
        "# generate bench mark data for O(n), O(n^2), O(nlog(n)), O(10*nlog(n)), and O(n!)\n",
        "for i in range(1, len(myruncounts)):\n",
        "    yTestVals1.append(i)\n",
        "    yTestVals2.append(pow(i, 2))\n",
        "    yTestVals3.append(i*log2(i))\n",
        "    yTestVals4.append(5*i*log2(i))\n",
        "\n",
        "# %matplotlib inline\n",
        "import matplotlib.pyplot as plt\n",
        "\n",
        "# Simple vs. Improved execution steps\n",
        "plt.rcParams['figure.figsize'] = [10,5]\n",
        "fig, (ax1) = plt.subplots(1, 1)\n",
        "fig.suptitle('Call Count Analysis', size=\"xx-large\")\n",
        "\n",
        "# plotting nearest neighbor execution steps\n",
        "ax1.set_title('Bruteforce tree runtime', size=\"x-large\")\n",
        "ax1.plot(range(len(myruncounts)), myruncounts, \"rx-\", markersize=10, linewidth=4, label=\"Calls to Dist\")\n",
        "ax1.plot(range(len(myruncounts)), yTestVals1, \"m^-\", markersize=0, linewidth=1, label=\"benchmark O(n)\")\n",
        "ax1.plot(range(len(myruncounts)), yTestVals3, \"g^-\", markersize=0, linewidth=1, label=\"benchmark O(nlog(n))\")\n",
        "ax1.plot(range(len(myruncounts)), yTestVals4, \"y^-\", markersize=0, linewidth=1, label=\"benchmark O(5*nlog(n))\")\n",
        "ax1.plot(range(len(myruncounts)), yTestVals2, \"b^-\", markersize=0, linewidth=1, label=\"benchmark O(n^2)\")\n",
        "ax1.grid(b=True, which='major', axis='both')\n",
        "ax1.set(xlabel = 'Size of Input lighthouses', ylabel = 'Total # of Calls Made')\n",
        "ax1.legend(loc=(0.05,0.65), scatterpoints=1)\n",
        "ax1.tick_params(axis=\"both\", which=\"major\", labelsize=14)"
      ]
    },
    {
      "cell_type": "code",
      "execution_count": 9,
      "metadata": {
        "id": "2nczwEIQBBOJ"
      },
      "outputs": [
        {
          "name": "stdout",
          "output_type": "stream",
          "text": [
            "The best tour is:  Romeo, Papa, Lima\n",
            "The best time is: 2.70\n",
            "The call counts are:  9\n",
            "The best tour is:  Charlie, Uniform, Quebec, Papa\n",
            "The best time is: 6.40\n",
            "The call counts are:  40\n",
            "The best tour is:  Papa, Victor, India, Foxtrot, Echo\n",
            "The best time is: 6.10\n",
            "The call counts are:  205\n"
          ]
        }
      ],
      "source": [
        "# MY CODE BLOCK TO EXPERIMENT WITH 3-10 LIGHTHOUSES AND GATHER EXECUTION STEPS\n",
        "\n",
        "\n",
        "tests = 11                 # N values to run 3-10\n",
        "myfastest_tourcounts = []  # created array for call counts \n",
        "inputsize = []             # sie of random light house \n",
        "\n",
        "# runs trhough the ranged tests \n",
        "for i in range(tests):\n",
        "\n",
        "    # I dont need anything before 3 light houses \n",
        "    if i < 3:\n",
        "        fastest_tour_r.calls = 0\n",
        "        inputsize.append(i)                                 # appends for graph \n",
        "        myfastest_tourcounts.append(fastest_tour_r.calls)   # appends for graph \n",
        "    \n",
        "    # played around with this but essentially wanted to make my graph look better \n",
        "    if i > 2 and i < 6:\n",
        "\n",
        "        traveldict, lightlist = random_lighthouses(i)\n",
        "\n",
        "        best_tour, best_time = fastest_tour(traveldict, lightlist)\n",
        "        # feedback print statements to endure my outputs look good \n",
        "        print(\"The best tour is: \", ', '.join(best_tour))\n",
        "        print(f\"The best time is: {best_time:0.2f}\")\n",
        "        print(\"The call counts are: \", fastest_tour_r.calls)\n",
        "        inputsize.append(i)\n",
        "        myfastest_tourcounts.append(fastest_tour_r.calls)\n",
        "\n",
        "    else:\n",
        "        pass"
      ]
    },
    {
      "cell_type": "code",
      "execution_count": 10,
      "metadata": {
        "id": "LIb5iG6EBBOK"
      },
      "outputs": [
        {
          "name": "stderr",
          "output_type": "stream",
          "text": [
            "C:\\Users\\Emanuel\\AppData\\Local\\Temp\\ipykernel_16752\\1176488785.py:38: MatplotlibDeprecationWarning: The 'b' parameter of grid() has been renamed 'visible' since Matplotlib 3.5; support for the old name will be dropped two minor releases later.\n",
            "  ax1.grid(b=True, which='major', axis='both')\n"
          ]
        },
        {
          "data": {
            "image/png": "[encoded data removed]",
            "text/plain": [
              "<Figure size 720x360 with 1 Axes>"
            ]
          },
          "metadata": {
            "needs_background": "light"
          },
          "output_type": "display_data"
        }
      ],
      "source": [
        "# Code adapted from Sahil Sharma, used with permission, from Spring, 2021\n",
        "\n",
        "from math import pow\n",
        "from math import log2\n",
        "from math import factorial\n",
        "\n",
        "# Let myruncounts[i] be count of calls for POINT array of size i\n",
        "myruncounts = myfastest_tourcounts # your data here\n",
        "\n",
        "# benchmark data set generation\n",
        "yTestVals1 = [0,] # linear for O(n)\n",
        "yTestVals2 = [0,] # quadratic for O(n^2)\n",
        "yTestVals3 = [0,] # n*log(n) for O(nlog(n))\n",
        "yTestVals4 = [0,] # 5*n*log(n) for O(nlog(n))\n",
        "\n",
        "# generate bench mark data for O(n), O(n^2), O(nlog(n)), O(10*nlog(n)), and O(n!)\n",
        "for i in range(1, len(myruncounts)):\n",
        "    yTestVals1.append(i)\n",
        "    yTestVals2.append(pow(i, 2))\n",
        "    yTestVals3.append(i*log2(i))\n",
        "    yTestVals4.append(5*i*log2(i))\n",
        "\n",
        "# %matplotlib inline\n",
        "import matplotlib.pyplot as plt\n",
        "\n",
        "# Simple vs. Improved execution steps\n",
        "plt.rcParams['figure.figsize'] = [10,5]\n",
        "fig, (ax1) = plt.subplots(1, 1)\n",
        "fig.suptitle('Call Count Analysis', size=\"xx-large\")\n",
        "\n",
        "# plotting nearest neighbor execution steps\n",
        "ax1.set_title('Bruteforce tree runtime', size=\"x-large\")\n",
        "ax1.plot(range(len(myruncounts)), myruncounts, \"rx-\", markersize=10, linewidth=4, label=\"Calls to Dist\")\n",
        "ax1.plot(range(len(myruncounts)), yTestVals1, \"m^-\", markersize=0, linewidth=1, label=\"benchmark O(n)\")\n",
        "ax1.plot(range(len(myruncounts)), yTestVals3, \"g^-\", markersize=0, linewidth=1, label=\"benchmark O(nlog(n))\")\n",
        "ax1.plot(range(len(myruncounts)), yTestVals4, \"y^-\", markersize=0, linewidth=1, label=\"benchmark O(5*nlog(n))\")\n",
        "ax1.plot(range(len(myruncounts)), yTestVals2, \"b^-\", markersize=0, linewidth=1, label=\"benchmark O(n^2)\")\n",
        "ax1.grid(b=True, which='major', axis='both')\n",
        "ax1.set(xlabel = 'Size of Input lighthouses', ylabel = 'Total # of Calls Made')\n",
        "ax1.legend(loc=(0.05,0.65), scatterpoints=1)\n",
        "ax1.tick_params(axis=\"both\", which=\"major\", labelsize=14)"
      ]
    },
    {
      "cell_type": "markdown",
      "metadata": {
        "id": "yX0E_tyYBBOL"
      },
      "source": [
        "### Writeup\n",
        "**So my brute force algorithm is pretty bad. I attempted to figure out why the other examples were not showing up and the redline was not in between the other runtimes. Soon figured out that it is because the calls are so much and sudden that its performance shows how bad it is. My runtime is greater than O(n^2) here by quite a huge margin. You can see this as i take aay points in order to blow up the image to show where the gridlins of the other performance lines are. \n",
        "\n",
        "**See plot above to see** I played around with the plot to get the best image of what is going on. I had to get rid of the N 8-10 because the calls were so great that the other default grids of the O(n) were not as visible. "
      ]
    },
    {
      "cell_type": "markdown",
      "metadata": {
        "id": "h-soB-q8sy9Z"
      },
      "source": [
        "## Multi-Fragment (15 points) (I WAS NOT ABLE TO COMPLETE THIS)\n",
        "The Traveling Salesperson Problem is in the family of NP Complete problems.  As such, there is no known deterministic polynomial time solution to it.  However, people over the years have come up with approximations that run in polynomial time, and some run fairly efficiently, but with a tradeoff in accuracy. \n",
        "\n",
        "The paper, [An Empirical Study of the Multi-Fragment Tour Construction Algorithm for the Traveling Salesman Problem](https://scholar.google.com/scholar?q=An+Empirical+Study+of+the+Multi-Fragment+Tour) by Krari *et al*, describes an interesting greedy algorithm that works by adding edges of increasing length to fill out the tour.\n",
        "\n",
        "For this part:\n",
        "* implement the Multi-Fragment approximation method in Python, adapted to the Lighthouse challenge, and the required Union-Find algorithm as a helper for it\n",
        "* compare accuracy vs. the brute-force algorithm in terms of tour time\n",
        "\n",
        "(By \"adapted to the Lighthouse challenge,\" our tours are not a cycle$-$they do not return to the starting point.)\n",
        " \n",
        "There is one trick to this part - Algorithm 3 of the paper returns a list of edges (and times) that belong to the tour, but it does not put the edges in the correct tour order.  It just tells you the edges that belong.  \n",
        "\n",
        "Since we're only comparing accuracy, *we don't need to know the exact tour* and therefore we do not have to worry about that. "
      ]
    },
    {
      "cell_type": "markdown",
      "metadata": {
        "id": "HK5R3rCj3Rgt"
      },
      "source": [
        "### Union-Find Implementation (I WAS NOT ABLE TO COMPLETE THIS)\n",
        "The implementation requires two parts.  First, implement Union-Find below.  \n",
        "\n",
        "As this part is central to the assignment, you **must** write code for this yourself, and **not** load Python modules or download other implementations.  You may refer to outside resources for tips on the algorithm.\n",
        "\n",
        "As usual, do not change the function signatures.\n",
        "\n",
        "Use the test block by changing the if statement to \"if True:\" to make sure your implementation works as expected.  Feel free to add additional testing to check for unions of fragments, unions of singletons with fragments, and so on.\n"
      ]
    },
    {
      "cell_type": "code",
      "execution_count": 13,
      "metadata": {
        "id": "l3BlK-x-sRyx"
      },
      "outputs": [
        {
          "name": "stdout",
          "output_type": "stream",
          "text": [
            "testing union-find things...\n",
            "{'a': 'b', 'b': 'a', 'c': 'a', 'd': 'a'}\n",
            "initial parent dict is: \n",
            "{\n",
            "  \"a\": \"b\",\n",
            "  \"b\": \"a\",\n",
            "  \"c\": \"a\",\n",
            "  \"d\": \"a\"\n",
            "}\n"
          ]
        }
      ],
      "source": [
        "# My Union-Find Implementation\n",
        "\n",
        "def MAKESET(lightList):\n",
        "  \"\"\"\n",
        "  Creates a dictionary of lights that are themselves indexed by lights, such \n",
        "  that dict['light'] --> 'some other light' that is acting as its parent.  \n",
        "  Input is a list of strings.  \n",
        "  Output is the dict of parents.\n",
        "\n",
        "  If you need help, look at:\n",
        "  https://en.wikipedia.org/wiki/Disjoint-set_data_structure\n",
        "  \"\"\"\n",
        " \n",
        "  parentOf = {} # PUT YOUR CODE HERE TO MAKE THE REQUIRED DICTIONARY\n",
        "\n",
        "  for i in lightList:\n",
        "    for j in lightList:\n",
        "      if i != j and i not in parentOf:\n",
        "        parentOf.setdefault(i, j)\n",
        "\n",
        "  \n",
        "  # from the video \n",
        "  # https://www.youtube.com/watch?v=zXqZ7A26ozw&ab_channel=NatarajanMeghanathan\n",
        "  # I believe i needed to create the dictionary above with 2 elements or lighthouses on \n",
        "  # the left and the distance of them as its value\n",
        "  # these sets would act like the subsets anf the parent would be the greater ?\n",
        "\n",
        "  return parentOf\n",
        "\n",
        "def FINDPARENT(light, parentOf):\n",
        "  \"\"\"\n",
        "  Finds the parent of 'light' in lightDict.  The dictionary lightDict must have\n",
        "  been created by a previous call to MAKESET.  \n",
        "  Returns the 'light parent' corresponding to 'light.'  (Could be itself, depending.)  \n",
        "  As a hint, you have to walk the list of parents; \n",
        "  you might want to update any parents you\n",
        "  find along the way.  See \"path compression\" in the link above.\n",
        "\n",
        "  Output is the parent of light.  Note, this modifies parentOf.\n",
        "  \"\"\"\n",
        "  retparent = 'some string here' # PUT YOUR CODE HERE\n",
        "\n",
        "  retparent = light\n",
        "\n",
        "  # base case\n",
        "  while retparent.parentOf != retparent:\n",
        "    retparent = retparent.parentOf\n",
        "\n",
        "  while light.parentOf != retparent:\n",
        "    light = retparent\n",
        "    retparent = parentOf\n",
        "    parentOf.update\n",
        "\n",
        "\n",
        "  \n",
        "  # from the video \n",
        "  # https://www.youtube.com/watch?v=zXqZ7A26ozw&ab_channel=NatarajanMeghanathan\n",
        "  # and office hours\n",
        "  # https://wse.zoom.us/rec/play/BFGAUTiBioRDp777tJHib-i2eFfoWSMOPmC7iNbjK3OGizgVVA5f8-LzO2uCwN-LiTT0d-Goj2PNVBPS.myUoBLd-MspoYXoj?continueMode=true&_x_zm_rtaid=RfB9gEE2R36hTuAh2BxzcQ.1649626270740.99e53197161d8aaef34423e185377646&_x_zm_rhtaid=175\n",
        "  # mention i needto be able to look for the parents\n",
        "  # one thing the youtube video mentions is to sort. here i would have played with the \n",
        "  # difference of unsorted and sorted  here\n",
        "  # as we find we are presented the chance to update the forest tree \n",
        "  \n",
        "  return retparent\n",
        "\n",
        "def UNION(light1, light2, parentOf):\n",
        "  \"\"\"\n",
        "  Makes light1 have the same parent as light2.  \n",
        "  Output is True, and it\n",
        "  modifies parentOf.  Ensure you test this adequately.\n",
        "  \"\"\"\n",
        "\n",
        "  light1 = FINDPARENT(light1, parentOf)\n",
        "  light2 = FINDPARENT(light2, parentOf)\n",
        "\n",
        "  if light1 == light2:\n",
        "    pass\n",
        "  if light1.size < light2.size:\n",
        "    (light1, light2) = light2,light1\n",
        "  \n",
        "  light2.parentOf = light1\n",
        "\n",
        "  \n",
        "\n",
        "  # from the video \n",
        "  # https://www.youtube.com/watch?v=zXqZ7A26ozw&ab_channel=NatarajanMeghanathan\n",
        "  # and office hours\n",
        "  # https://wse.zoom.us/rec/play/BFGAUTiBioRDp777tJHib-i2eFfoWSMOPmC7iNbjK3OGizgVVA5f8-LzO2uCwN-LiTT0d-Goj2PNVBPS.myUoBLd-MspoYXoj?continueMode=true&_x_zm_rtaid=RfB9gEE2R36hTuAh2BxzcQ.1649626270740.99e53197161d8aaef34423e185377646&_x_zm_rhtaid=175\n",
        "  # here is where the edge conections are made in order to have the edges inherit the \n",
        "  # dictionary values at the edges. \n",
        "\n",
        "  return True\n",
        "\n",
        "# Simple testing - change to \"if True:\" to run the tests.  Uncomment the prints\n",
        "# as necessary.\n",
        "if True:\n",
        "  print(\"testing union-find things...\")\n",
        "  P = MAKESET(['a', 'b', 'c', 'd'])\n",
        "  print(P)\n",
        "  print(f\"initial parent dict is: \\n{dictstr(P)}\")\n",
        "  # pa = FINDPARENT('a', P)\n",
        "  # pb = FINDPARENT('b', P)\n",
        "  # # should have different parents initially\n",
        "  # if pa == pb: \n",
        "  #   print(f\"ERROR - fail on fresh findparent - expected {pa} != {pb}\")\n",
        "  \n",
        "  # # combine the two singletons\n",
        "  # UNION('a', 'b', P)\n",
        "  # # print(f\"parent dict after union 'a', 'b' is: \\n{dictstr(P)}\")\n",
        "  # pa = FINDPARENT('a', P)\n",
        "  # pb = FINDPARENT('b', P)\n",
        "  # # should now have the same parent\n",
        "  # if pa != pb: \n",
        "  #   print(f\"ERROR - fail on unioned findparent - expected {pa} == {pb}\")\n",
        "  \n",
        "  # # create a separate fragment c, d, then union those and ensure same parents\n",
        "  # UNION('c', 'd', P)\n",
        "  # # print(f\"parent dict after union 'c', 'd' is: \\n{dictstr(P)}\")\n",
        "  # pc, pd = FINDPARENT('c', P), FINDPARENT('d', P)\n",
        "  # # post-union, they should have the same parent\n",
        "  # if pc != pd: \n",
        "  #   print(f\"ERROR - fail on sepfrag findparent - expected {pc} == {pd}\")\n",
        "  \n",
        "  # # now union the two fragments together - CRITICAL that this works\n",
        "  # UNION('b', 'd', P)\n",
        "  # # print(f\"parent dict after union 'b', 'd' is: \\n{dictstr(P)}\")\n",
        "  # pa, pd = FINDPARENT('a', P), FINDPARENT('d', P)\n",
        "  # # even though 'a' was not explicitly unioned, its parent must be 'd's parent\n",
        "  # if pa != pd: \n",
        "  #   print(f\"ERROR - fail on unionfrag findparent - expected {pa} == {pd}\")\n",
        "\n",
        "  # # if you reparent a child, then the parent needs to move, too.  \n",
        "  # # e.g., a, b, c --> p1, and d --> p2.  If union c and d, then p1 should share\n",
        "  # # parent with p2.\n",
        "  # P = MAKESET(['a', 'b', 'c', 'd'])\n",
        "  # UNION('a', 'b', P)\n",
        "  # UNION('c', 'd', P)\n",
        "  # UNION('a', 'c', P)\n",
        "  # # print(f\"parent dict after reparent test is: \\n{dictstr(P)}\")\n",
        "  # # ensure both a and b have same parent as c and d\n",
        "  # # ensure all now have same parent after a search\n",
        "  # _ = [FINDPARENT(v,P) for v in P]\n",
        "  # if not len(set([P[x] for x in P])) == 1:\n",
        "  #   print(f\"ERROR - fail common parent abcd - \\n{dictstr(P)}\")\n",
        "\n",
        "  # # lengthy test; assume a -> b -> c -> d, move b -> e, test c\n",
        "  # P = MAKESET(['a', 'b', 'c', 'd', 'e'])\n",
        "  # UNION('a', 'b', P)\n",
        "  # UNION('b', 'c', P)\n",
        "  # UNION('c', 'd', P)\n",
        "  # UNION('a', 'e', P)\n",
        "  # # print(f\"parent dict after reparent test is: \\n{dictstr(P)}\")\n",
        "  # # ensure all now have same parent after a search\n",
        "  # _ = [FINDPARENT(v,P) for v in P]\n",
        "  # if not len(set([P[x] for x in P])) == 1:\n",
        "  #   print(f\"ERROR - fail common parent abcde - \\n{dictstr(P)}\")\n",
        "\n",
        "  # print(f\"completed testing.\")\n"
      ]
    },
    {
      "cell_type": "markdown",
      "metadata": {
        "id": "JcXSv1U3P4FD"
      },
      "source": [
        "### MF Implementation\n",
        "Now implement the Multi-Factor Algorithm itself.  This is largely Algorithm 3 in the paper.  Use the same function signature as before (the kickoff function), but rename it as defined below.  \n",
        "\n",
        "Add code (with comments) to make this work.  You will need your correctly functioning Union-Find methods to help with one of the conditions stated in Algorithm 3.  \n",
        "\n",
        "Note that we do not care about the specific tour, but we will return the edges as part of the tour.  If you want, you can reassemble the edges outside of the function to make a tour.  The important thing is the total time for the tour."
      ]
    },
    {
      "cell_type": "code",
      "execution_count": 12,
      "metadata": {
        "id": "TpoLm13XHK3H"
      },
      "outputs": [
        {
          "ename": "SyntaxError",
          "evalue": "invalid syntax (2772295376.py, line 8)",
          "output_type": "error",
          "traceback": [
            "\u001b[1;36m  Input \u001b[1;32mIn [12]\u001b[1;36m\u001b[0m\n\u001b[1;33m    if e in traveldict and\u001b[0m\n\u001b[1;37m                           ^\u001b[0m\n\u001b[1;31mSyntaxError\u001b[0m\u001b[1;31m:\u001b[0m invalid syntax\n"
          ]
        }
      ],
      "source": [
        "# My Multi-Fragment Tour Code\n",
        "def fastest_tour_multifragment(traveldict, lights):\n",
        "\n",
        "  best_tour_edges = [] # list of edges; they might not be in any order\n",
        "  best_time = float(0.0)\n",
        "\n",
        "  for lights in traveldict:\n",
        "    if e in traveldict and \n",
        "\n",
        "  return best_tour_edges, best_time\n"
      ]
    },
    {
      "cell_type": "markdown",
      "metadata": {
        "id": "gtna2yht3bZ4"
      },
      "source": [
        "### MF Experiment\n",
        "Now compare the *pessimistic average accuracy* of the MF algorithm to that of your brute force approach, in terms of reported tour time.  (For this experiment, we ignore the actual tour order itself, and just assume that if both brute force and MF find a tour of X hours, then it's the same and thus optimal tour.)\n",
        "\n",
        "The wrinkle here is we want to know only how bad things can get.  Therefore, as you do experiments, throw out all the cases where multifactor matches brute, but do collect data on cases where multifactor is different.\n",
        "\n",
        "**Run experiments** over different sized sets of  lighthouses, from 4 up to and including 9 *but no higher*.  That is, your loop range variable should be ``range(4,10)``.\n",
        "\n",
        "For each length N:\n",
        "* Create fresh random lighthouses with the random_lighthouses(n) function \n",
        "* Run your brute force implementation to collect the \"ground truth\" number of hours\n",
        "* Run your MF implementation on the same input set of lights, and collect the number of hours.  \n",
        "* If the reported MF time is greater than 0.01 from brute, then add brute's hours to a ``bf_total`` variable and then add MF's hours to ``mf_total``.\n",
        "* Repeat the above steps to collect up to 20 samples, then calculate the difference as $(T_{mf}+T_{bf})/T_{bf} - 2$ and report that (if they match, it will be $2/1 - 2 = 0$ which is a growth of 0%; twice as long is $3/1 - 2 = 1$ or growth of 100%, etc.).  This will reflect the average overestimate of MF, useful for knowing how bad MF can get.\n",
        "* Constrain the overall number of loops per trial to stay within the stated execution time limits of this assignment.\n",
        "* Output a list of these differences indexed by size N.\n",
        "\n",
        "Here's an (extreme growth) example of where it goes wrong; can you see where the problem is?  BF is the brute force time and tour, MF similar.\n",
        "```\n",
        "BF time 4.30 ['Charlie', 'Victor', 'India', 'Tango']\n",
        "     MF 6.10 ['Charlie', 'India', 'Victor', 'Tango']\n",
        " growth 0.419\n",
        "    MF list of edges:\n",
        "  0.90, ('Victor', 'India')\n",
        "  1.00, ('Tango', 'Victor')\n",
        "  1.40, ('Charlie', 'Victor')\n",
        "  2.00, ('Tango', 'India')\n",
        "  4.20, ('Charlie', 'India')\n",
        "  4.60, ('Charlie', 'Tango')\n",
        "```\n",
        "\n",
        "To help you with this task, the code block below contains a pattern for a loop and experiment system that only measures desired effects a constrained number of times.  It simulates a coin tossing experiment.  You may replace this with your own lighthouse experiment code."
      ]
    },
    {
      "cell_type": "code",
      "execution_count": null,
      "metadata": {
        "id": "M9e5lghWaxLr"
      },
      "outputs": [
        {
          "name": "stdout",
          "output_type": "stream",
          "text": [
            "{\n",
            "  \"('Quebec', 'Papa')\": 2.6,\n",
            "  \"('Quebec', 'November')\": 1.0,\n",
            "  \"('Papa', 'November')\": 0.4,\n",
            "  \"('Papa', 'Quebec')\": 2.6,\n",
            "  \"('November', 'Quebec')\": 1.0,\n",
            "  \"('November', 'Papa')\": 0.4\n",
            "}\n",
            "  experiment 4:  returning 0 over 0 samples\n",
            "  experiment 5:  returning 0 over 0 samples\n",
            "  experiment 6: ................ returning 96 over 16 samples\n",
            "  experiment 7: .................... returning 123 over 20 samples\n",
            "  experiment 8: .................... returning 124 over 20 samples\n",
            "  experiment 9: .................... returning 132 over 20 samples\n",
            "We have some results.  They are:\n",
            "4:0.000, 5:0.000, 6:96.000, 7:123.000, 8:124.000, 9:132.000\n"
          ]
        }
      ],
      "source": [
        "# My Experiment Code\n",
        "traveldict, lights = random_lighthouses(3)  # 3 random lighthouses, for example\n",
        "print(dictstr(traveldict)) # in the helpers... pretty prints any dictionary\n",
        "\n",
        "\"\"\"\n",
        "Here's a pattern for data collection that reports data only for \"meaningful\"\n",
        "trials, but only makes 1000 attempts total per experiment.\n",
        "\n",
        "We're stubbing in a fake experiment function - you can replace with your own\n",
        "code.  The experiment function takes in the control variable, and will collect\n",
        "data from a certain number of trials, but only make a fixed number of attempts.\n",
        "If it cannot get the effect in that number of attempts, it bails out and\n",
        "returns a default value.\n",
        "\"\"\"\n",
        "from random import randint\n",
        "def experiment(n, samples, maxtries=1000):\n",
        "  \"\"\"\n",
        "  Hypothetical experiment.  Flip a coin n times, return total number of heads \n",
        "  over the given number of samples only if more than 5 heads.  \n",
        "\n",
        "  The experiment repeatedly tries until it sees an effect.  However, to avoid\n",
        "  infinite loops, it only tries for a while before giving up and returning 0.\n",
        "  \"\"\"\n",
        "  tries = maxtries # make at most 1000 attempts\n",
        "  samps = samples\n",
        "  totheads = 0 # summed outcome of the experiment\n",
        "  print(f\"  experiment {n}: \", end=\"\") # the \"end\" suppresses the newline\n",
        "  while samps > 0 and tries > 0: # go until we get samples OR we give up\n",
        "    tries = tries - 1\n",
        "\n",
        "    # PUT YOUR EXPERIMENT HERE (and throughout)\n",
        "    nheads = 0\n",
        "    for _ in range(n): \n",
        "      nheads = nheads + randint(0,1) # a \"1\" is a heads\n",
        "\n",
        "    # decide if this trial passes our number of heads criterion\n",
        "    if nheads<=5:\n",
        "      continue # will jump to top of while loop and run it again, up to 1000\n",
        "\n",
        "    # otherwise, we have a result; update the experiment data\n",
        "    samps = samps - 1\n",
        "    print(\".\", end=\"\") # print a progress dot on success\n",
        "    totheads = totheads + nheads # capture this sample\n",
        "\n",
        "  print(f\" returning {totheads} over {samples-samps} samples\")  \n",
        "  return totheads\n",
        "\n",
        "# Main kickoff code for the data collection\n",
        "SAMPLES = 20 # want up to 20 data points\n",
        "TRIES = 1000 # but only make this many attempts at the 20 samples\n",
        "NRANGE = range(4,10)\n",
        "resultsOf = [] \n",
        "for N in NRANGE:\n",
        "  oneTrial = experiment(N, SAMPLES, TRIES)\n",
        "  resultsOf.append(oneTrial) # build our answer list\n",
        "\n",
        "print(f\"We have some results.  They are:\")\n",
        "# some things in Python, you just have to get used to...\n",
        "s=\", \".join([f\"{n+NRANGE[0]}:{v:0.3f}\" for n,v in enumerate(resultsOf)])\n",
        "# ... the above says, \"create a big string out of smaller strings, where\n",
        "# each smaller string is the number n, colon, the value v, for every result\n",
        "# taken from array resultsOf.\"\n",
        "print(s)\n"
      ]
    },
    {
      "cell_type": "markdown",
      "metadata": {
        "id": "8ziH2ouB7ehq"
      },
      "source": [
        "### MF Writeup\n",
        "**State your findings on accuracy** and if you collected them, execution steps.\n",
        "\n",
        "I apologize, i was not able to get my code to work on this. \n",
        "\n",
        "Points to make: \n",
        "* What was the overall accuracy?  \n",
        "I uspect the accuracy of my code would have been much better than the bruteforce i implemented. apologies, i had alot of issues trying to understand the disjoints and how to set them up correctly with what we had going on \n",
        "* Did accuracy improve, worsen, or stay the same with larger N?\n",
        "The accuracy should drastically improve the complexity i saw with the bruteforce. by how much im not sure unfortunately. \n",
        "* For the so-called $64K question, how do your overall average results compare with what is reported in the caption of Table 1 in the paper?\n",
        "unfortunately i was not able to get to this but i could imagine i would be able to see quite a huge difference. \n",
        "* Finally, and you don't have to answer, I just want you to think about it - is there a way to improve Multi-Fragment, e.g., using randomness?\n",
        "If i got mine to work i would test for unsorted sets to sorted sets and see how much of a difference the runtime would be. Also something i caught were the different ways to use the find function. I particularly used a while statement to help find the parent of but saw that a recursive call could be made. would experiment with this to see how much better my performance does.\n",
        "\n",
        "Congratulations - you just verified a result in a published conference paper!\n",
        "\n",
        "**MY RESULTS**"
      ]
    },
    {
      "cell_type": "markdown",
      "metadata": {
        "id": "amTMLeiPBBOM"
      },
      "source": [
        "## Retrospection (10 pts)\n",
        "Bruteforce:\n",
        "So I actually struggled a bit to get my code running for the brute force. took a lot of soul searching to find other alternatives and did not realize how bad i messed up with the pseudocode. I was stuck on why the tests kept coming back as 8/10 passes and then finally fixed my issue by changing some variable inputs. there are alot of ways to skin this cat here. \n",
        "\n",
        "MF Implementation:\n",
        "If i struggled with the bruteforce clearly you can imagine how much of a struggle was the MF implementation. I was not able to get this code going and was down to the wire on the sumbital. apologies, I tried. The disjoints really confused me and wasnt able to picture it right.\n",
        "* **What was the last bug you found and fixed?** the last bug i fixed \n",
        "Brute force: \n",
        "i kept getting 8/10 and one of the many reasons why this was is my confusion to what the tree was doing/not doing. I was also not bringing in the correct variable (start_point was needed instead of the next light). this gave me a headache. once i figured it out, it all made sense. i should have not spent too much time on this one. another was how to do the tuple. I had to do soul searching onine in order to get the right annotation to keep placing the lights in a contatination form. \n",
        "\n",
        "MF imlementation:\n",
        "As mentioned before i have been essentially fighting a bug battle with the MF implementation and the disjoints which I did not quite understand as much as I thought I did.\n",
        "\n",
        "* **What are some late-breaking ideas you had for improving your implementation, that maybe you didn't have time to implement?** Brute force: \n",
        "i wanted to run a loop to see the random lights with same size just to check that i was getting consistent outputs. I ran it and yes i recieved the same thing which is what i would expect. \n",
        "\n",
        "MF imlementation:\n",
        "so what i wanted to check against was a sorted vs unsorted inputs with the edges. \n",
        "* **What did you feel you learned from this assignment?** learned more about the recursive tree route, learned more how to handle tuples, learned more about the implemmentation of disjoints into the algorithm and how focusing on the edges to provide the same output graphically was another way to get to a better answer for this type of experiment.\n",
        "* **How would you improve this assignment for future semesters?** honestly you did a great job of taking alot of the algorthm nuances from this assignment that really helped. because of the previous PA1 i was able to carry over the graphical implementation without stressing too much on this. \n",
        "\n",
        "I did struggle with the disjoint and saw some errors trying to use the built in prints and was at the point where im just welp, lets see if i can just print something. \n",
        "\n",
        "If there's anything else you'd like to say, feel free to write it.\n"
      ]
    },
    {
      "cell_type": "markdown",
      "metadata": {
        "id": "kOjHZs5zBBON"
      },
      "source": [
        "# Citations\n",
        "Endre, R. (2022, 4 10). Disjoint-set_data_structure. Retrieved from wikipedia: https://en.wikipedia.org/wiki/Disjoint-set_data_structure\n",
        "\n",
        "GeeksforGeeks. (2022, 4 10). Union-Find Algorithm. Retrieved from geeksforgeeks: https://www.geeksforgeeks.org/union-find-algorithm-set-2-union-by-rank/\n",
        "\n",
        "Meghanathan, N. (2022, 4 10). Multi-fragment Heuristic for Traveling salesman problem. Retrieved from youtube: https://www.youtube.com/watch?v=zXqZ7A26ozw&ab_channel=NatarajanMeghanathan\n",
        "\n",
        "programiz. (2022, 4 10). Python Sets. Retrieved from programiz: https://www.programiz.com/python-programming/set#:~:text=Creating%20Python%20Sets,tuple%2C%20string%20etc.).\n",
        "\n"
      ]
    },
    {
      "cell_type": "markdown",
      "metadata": {
        "id": "SiN7rfVN3E68"
      },
      "source": [
        "# Submission Reminders\n",
        "\n",
        "Submit to Blackboard per instructions found on Blackboard.  In most cases, you just upload your ipynb file.  Before you do that, \n",
        "\n",
        "\n",
        "* \"restart and run all\" before submitting.  Make sure it runs and does not throw exceptions, even if it does not pass all the test cases.  The grader \"restarts and runs all\" and expects it to run completely through.  We have graded many assignments where the student has done only a partial run, or run things out of order, leaving around old variables that give false results, only to have it throw an exception or give a different answer when the grader runs it.\n",
        "\n",
        "* Rerun your code blocks, make sure you get the same answer each time.  The instructor's test block makes repeated calls to your code, and if you've left a stray variable that doesn't get cleared, it could affect the results.  \n",
        "\n",
        "* Make sure you've completed every task in this notebook.\n",
        "\n",
        "* If there's a plot required, make sure it's legible, axes correctly labeled, and that it \"tells a story\" about what is being shown.\n",
        "\n",
        "* Double check that you have not changed the function signature.\n",
        "\n",
        "* Include a statement of academic integrity in the block at the top.  \n",
        "\n",
        "* Put your name at the top."
      ]
    },
    {
      "cell_type": "markdown",
      "metadata": {
        "id": "kDQIxOfZ-2BR"
      },
      "source": [
        "# Additional Info\n",
        "\n",
        "Once you conquer the Maryland course, [it's onto New Jersey!](https://lighthousechallengenj.com/challenge-sites)  You can win, with algorithms!"
      ]
    }
  ],
  "metadata": {
    "colab": {
      "collapsed_sections": [],
      "name": "PA2_SP22_lighthouse.ipynb",
      "provenance": [],
      "toc_visible": true
    },
    "kernelspec": {
      "display_name": "Python 3",
      "language": "python",
      "name": "python3"
    },
    "language_info": {
      "codemirror_mode": {
        "name": "ipython",
        "version": 3
      },
      "file_extension": ".py",
      "mimetype": "text/x-python",
      "name": "python",
      "nbconvert_exporter": "python",
      "pygments_lexer": "ipython3",
      "version": "3.10.1"
    }
  },
  "nbformat": 4,
  "nbformat_minor": 0
}
