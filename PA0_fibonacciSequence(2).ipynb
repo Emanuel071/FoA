{
  "cells": [
    {
      "cell_type": "markdown",
      "metadata": {
        "id": "NgoTp60Sv85s"
      },
      "source": [
        "Emanuel Calderon, Algorithms 605.621\n",
        "\n",
        "Copyright Johns Hopkins University.  Not for distribution online or by any other means.\n",
        "\n",
        "# Statement of Academic Integrity\n",
        "\n",
        "I, Emanuel Calderon, attempted to answer each question honestly and to the best of my abilities. I cited any and all help that I received in completing this assignment."
      ]
    },
    {
      "cell_type": "markdown",
      "metadata": {
        "id": "KlqZkCRkqAfj"
      },
      "source": [
        "# Instructions to Students\n",
        "This programming assignment is contained entirely in this IPython/Jupyter notebook. You are to read the problem from this notebook, and answer questions/make required modifications in this same notebook and submit it as a notebook.  Look for **BOLDFACE AND/OR ALL CAPS** for where to put your answers.  Do not delete the problem statements, text, etc, leave all that as-is (makes grading easier)."
      ]
    },
    {
      "cell_type": "markdown",
      "metadata": {
        "id": "hqmOEWqq1eFA"
      },
      "source": [
        "# Overview\n",
        "A very basic programming assignment to ensure students can complete a basic programming assignment in the Python and Jupyter Notebook environment.  Ensure that students write properly commented code, working code, and can write an analysis and retrospection.  Make sure students can write an iterative, as well as a recursive function.  This assignment has a very short turn-around, and is meant to set the pace for all programming assignments this semester.\n",
        "\n"
      ]
    },
    {
      "cell_type": "markdown",
      "metadata": {
        "id": "vjdI9DYiwjLC"
      },
      "source": [
        "# Fibonacci Sequence (100 points total)\n",
        "Devise a way to output the $n$th term of the Fibonacci sequence: $F_n = F_{n-1} + F_{n-2}$ where the first Fibonacci number $F_1 = 0$ and the second $F_2 = 1$, for some non-negative integer $n$.\n"
      ]
    },
    {
      "cell_type": "markdown",
      "metadata": {
        "id": "gqmIgsiAzNhH"
      },
      "source": [
        "## Informal Approach (10 pts)\n",
        "\n",
        "Explain your approach to solving the Fibonacci sequence problem, using your own words.  Include citations for any and all help that you received or resources you used.  Note that for this assignment, you are not expected to provide an \"optimum\" or \"efficient\" coding solution to the Fibonacci sequence.  Just plan on getting a basic thing working, and explain your strategy below.\n",
        "\n",
        "\n",
        "\n",
        "**MY APPROACH:** Generally looking at some of the content about fibonaccis and how they work. Reviewed some of my Data Structures documents. Then deciding to implement the program as a recursive call or iterative working program. for the purpose of the acknowledgement of the programmers abilities, it was chosen to perform via recursion. \n",
        "\n",
        "*As with all programming assignments, do not change the \"prompt\" text, because that's what the professor scans to find your answers.*  ON EACH AND EVERY EVERY PROGRAMMING ASSIGNMENT,  *ensure you complete all prompts as indicated; they may be scattered about in the assignment AND even in code blocks, USUALLY REPRESENTED by CAPITAL LETTERS, and **BOLDFACE** where possible.*\n"
      ]
    },
    {
      "cell_type": "markdown",
      "metadata": {
        "id": "JVf3UvYHkjAM"
      },
      "source": [
        "## Implementation (60 pts)\n",
        "\n",
        "Edit the *CODE CELL* below and add your code.  add your own code, and comment it per the Programming Assignment expectations document posted on Blackboard. *AS WITH EVERY PROGRAMMING ASSIGNMENT,* whether stated explicitly or not, *DO NOT* change the function signature.  The *signature* includes:\n",
        " * the name of the function\n",
        " * number, order, and type of the input arguments\n",
        " * number, order, and type of the return values\n",
        "\n",
        "Instructors insert automated test code into your notebook that expects the functions to be defined as assigned.  You may write a different function(s) and create a *wrapper function* that conforms the signature to your implementation, so long as the instructor test code can find the assigned function and get proper values out of it.\n",
        "\n",
        "*A further word about comments in code:* Besides the Programming Assignment Guidelines, here's more thought on comments.  Comments are meant to help the reader (me) understand your code.  There must be a top-comment at the start of every function/method/class, giving a concise overview of what the function does.  Within the function, there must be simple comments highlighting the major sections.  \n",
        "\n",
        "As an analogy, comments are to programs as abstract and section headings are to written reports.  They delineate, draw attention to critical parts, give a lead into what this block of code is doing and why.\n",
        "\n",
        "Commenting and other programming do's:\n",
        " * Ensure every function has a top comment block.  If there is one there already due to the instructor, *modify it to suit your own style.*\n",
        " * Ensure major operations have comments discussing them.\n",
        " * If there's some squirrely list comprehension (Pythonistas, I'm looking at you ;-) or other construct that requires *more than a basic grasp of the language to understand,* it must be commented - personally, I would avoid these in programming assignments anyway, save them for your day job.\n",
        " * Do use variable names that make sense and aid understanding.\n",
        "\n",
        "Commenting and other programming do not's:\n",
        " * Do not write a dissertation in the comments.  Top blocks usually require 2, 3 sentences; inline (with code) comments are usually one line.\n",
        " * Do not \"translate\" your code into English.  Assume I can read code.  Do *not* assume that I understand:<br> ``y = {n:max([d for d in range(1,10) if n % d == 0]) for n in nums}``\n",
        " * Do not rely on a comment to help a poorly named variable.\n",
        "\n",
        "Last, many of these assignments are meant to be relatively straightforward.  If you find yourself writing 13 levels of nested if statements, you're probably going about it the wrong way.  <p><p>"
      ]
    },
    {
      "cell_type": "markdown",
      "metadata": {
        "id": "3qZ9uD-gB5Hj"
      },
      "source": [
        "### Sample Python Code\n",
        "If you are new to programming and/or Python, here are some elementary constructs to get you going.  You do not need to do anything with this block of code - it's here for a reference, for you to copy and modify as necessary.  If\n",
        "the below is hidden and you are on colab, click the arrow just to the left to expand it.  Refer back to this in future assignments - you'll need several of these in the future."
      ]
    },
    {
      "cell_type": "code",
      "execution_count": null,
      "metadata": {
        "id": "kGuFYT6WCGsm"
      },
      "outputs": [],
      "source": [
        "\"\"\"\n",
        "Basic output - the print statement.  In Jupyter, press Shift+Enter to run\n",
        "the current cell.\n",
        "\"\"\"\n",
        "print(\"Hello, world!\")\n",
        "\n",
        "\"\"\"\n",
        "Print the first ten numbers using a \"for\" loop.  A for loop steps over a list\n",
        "of values and assigns a loop variable with each item.  In Python, the range()\n",
        "function returns a list of integers in increasing order.\n",
        "\"\"\"\n",
        "for i in range(3):\n",
        "  print(f\"The value of i is {i}\") # the \"f\" tells print() to interpret {i}\n",
        "  print(f\"The value after i is {i+1}\") # you can do basic ops inside of {}\n",
        "\n",
        "\"\"\"\n",
        "Note also that \"blocks\" in Python are controlled by indents.  Some languages \n",
        "have \"if ... then ... else ... fi\" syntax, not so in Python.\n",
        "\"\"\"\n",
        "for i in range(5):\n",
        "  if i % 2 == 0:    # the % is a remainder function\n",
        "    print(f\"{i} is an even number\")\n",
        "  else:\n",
        "    print(f\"{i} is an odd number, but I'll bet that {2*i} is even\")\n",
        "\n",
        "\"\"\"\n",
        "Let's define a function that counts the number of times it is called.\n",
        "\"\"\"\n",
        "COUNT = 0  # my convention is use caps for global variables\n",
        "def addtwo(x):\n",
        "  '''Adds 2 to an integer x, returns 2+x.'''\n",
        "  global COUNT   # use \"global\" to say that COUNT comes from somewhere outside\n",
        "  answer = x+2\n",
        "  COUNT = COUNT + 1  # Python does NOT have a ++ operator, annoyingly\n",
        "  return answer\n",
        "\n",
        "ans = addtwo(5)\n",
        "print(f\"Result of the function called on 5: {ans}\")\n",
        "print(f\"Result of the function called on 3: {addtwo(3)}\")\n",
        "print(f\"Number of times addtwo was called: {COUNT}\")\n",
        "# you can reset COUNT outside of the function, for another run\n",
        "COUNT = 0\n",
        "print(f\"Calling on 1 gives {addtwo(1)}, COUNT={COUNT}\")\n",
        "\n",
        "\"\"\"\n",
        "The command 'break' is useful for leaving loops when conditions are right.\n",
        "Tell me why you are breaking.\n",
        "\"\"\"\n",
        "i=10\n",
        "while i>0:\n",
        "  if i == 7:   # stop when we get down to 7\n",
        "    break\n",
        "  print(f\"at {i}\")\n",
        "  i = i - 1\n",
        "\n",
        "\"\"\"\n",
        "The 'continue' command in a loop means skip onto the next item, do not \n",
        "process the current item.\n",
        "\"\"\"\n",
        "for i in range(5):\n",
        "  if i in [1, 3, 4]:   # if i is in this list, ...\n",
        "    continue              # then don't print it\n",
        "  print(f\"The lucky number of the day is {i}\")\n",
        "\n",
        "\"\"\"\n",
        "Arrays are lists.  You can index them by numbers.  Data types can intermix.\n",
        "\"\"\"\n",
        "A = [\"a\", 2, \"c\"]\n",
        "print(A[0]) # the first item\n",
        "\n",
        "\"\"\"\n",
        "Dictionaries are special kinds of arrays, you can index them by whatever you\n",
        "want.\n",
        "\"\"\"\n",
        "names = {\"cat\": \"CherPierre\", \"dog\": \"Comet\"}\n",
        "print(f\"A good name for a dog is '{names['dog']}'\") # careful mixing quotes\n",
        "# here's an index of a tuple - a pair of items\n",
        "hat = {} # empty dictionary\n",
        "hat[(\"monday\", \"raining\")] = \"black bonnet\"\n",
        "hat[(\"monday\", \"sunny\")] = \"blue baseball cap\"\n",
        "hat[(\"tuesday\", \"sunny\")] = \"red baseball cap\"\n",
        "dayweather=(\"tuesday\", \"sunny\")\n",
        "print(f\"The hat I will wear today is a {hat[dayweather]}\")\n",
        "# Be careful on dictionaries, though!  What if the index isn't found?\n",
        "dayweather=(\"tuesday\", \"rainy\")\n",
        "# We are going to catch the failure and handle it gracefully\n",
        "try:\n",
        "  print(f\"The hat I will wear today is a {hat[dayweather]}\")\n",
        "except Exception as e:\n",
        "  print(f\"My lookup failed.  The exact error is: {repr(e)}\")\n",
        "\n",
        "\"\"\"\n",
        "Make changes above, then Shift+Enter to run it and see it below.  You can always\n",
        "insert another code cell (or Ctrl+M, - to split ... control plus m, then minus)\n",
        "\"\"\"\n",
        "\n",
        "\"\"\"By default, the cell prints the last value - this string!\"\"\""
      ]
    },
    {
      "cell_type": "markdown",
      "metadata": {
        "id": "XS6iKtubzfd1"
      },
      "source": [
        "### Helper Functions\n",
        "\n",
        "There may be helper functions written by the instructor for you to use.  This may include call counters, data structures, classes, and the like.\n",
        "\n",
        "DO NOT CHANGE THE HELPER FUNCTIONS.  The instructor's test code relies on them, and might break.  If you need to make a change, please copy them to some other name, and use the modified versions, but make sure your code still passes the instructor test function.  That is, beware of *side-effects.*\n",
        "\n",
        "*LOOK INSIDE THIS HELPER* for a method of counting function calls.  You will be asked to plot function calls in upcoming programming assignments this semester."
      ]
    },
    {
      "cell_type": "code",
      "execution_count": null,
      "metadata": {
        "id": "bw_lqNY5yf8w"
      },
      "outputs": [],
      "source": [
        "# HELPER FUNCTIONS\n",
        "#\n",
        "\n",
        "# Decorator example for counting function calls, adapted from \n",
        "# https://stackoverflow.com/a/21717396/8542716\n",
        "# You apply a decorator call_counter above any function f that you want to \n",
        "# count how many times it has been called, and it magically creates a variable \n",
        "# f.calls that can be returned at any point.  It counts multiple functions \n",
        "# independently, and the functions can all have different arguments.\n",
        "#\n",
        "# Note, I can't get it to work with lamdas.\n",
        "\n",
        "def call_counter(f):\n",
        "    def wrapped(*args, **kwargs): # deal with any/all arguments\n",
        "        wrapped.calls += 1\n",
        "        return f(*args, **kwargs) # call the real function here\n",
        "    wrapped.calls = 0\n",
        "    return wrapped\n",
        "\n",
        "\"\"\"\n",
        "Example use: we have a function SumOfSquares(n), that calls out to a helper,\n",
        "square(x), to compute the sum of the squares of the first n numbers, 1, 2, \n",
        "..., n.  As typical in this course, we want to count the \"expensive\" function,\n",
        "in this case square(x).  Even though we don't call square(x) directly, it\n",
        "still gets counted for us, which we can use for plotting, etc.\n",
        "\n",
        "Note that you just put \"@call_counter\" at the top, and the rest is magic.\n",
        "It creates a \"variable\" of the function that tracks the number of calls.\n",
        "\"\"\"\n",
        "\n",
        "@call_counter\n",
        "def square(x):            # this function is being counted\n",
        "  '''\n",
        "  Returns the square of x.\n",
        "  '''\n",
        "  return x*x\n",
        "\n",
        "def SumOfSquares(n):      # this function is called, but not counted\n",
        "  '''\n",
        "  Returns the sum of the first n squares.  Calls out to \"square\" to \n",
        "  do the required squaring.\n",
        "  '''\n",
        "  sos=0                   # accumulator to hold the answer\n",
        "  for i in range(1,n+1):  # range(a,z) yields the values [a, a+1, ... z-2, z-1]\n",
        "    sos = sos + square(i) # add the square of i to the running total\n",
        "  \n",
        "  return sos              # return the result\n",
        "\n",
        "\"\"\"\n",
        "How to call the above function and get the counts out of it.\n",
        "\"\"\"\n",
        "square.calls = 0          # clears the counter\n",
        "n = 5                     # how many squares we want the sum for\n",
        "sum = SumOfSquares(n)     # the result\n",
        "count = square.calls      # the resulting call count to function squares(x)\n",
        "print(f\"Sum of first {n} squares is {sum}, taking {count} calls to square()\")\n",
        "square.calls = 0          # IMPORTANT! Clear the counter for any subsequent use\n",
        "print(\"We just stick @call_counter above any function we wish to count.\")"
      ]
    },
    {
      "cell_type": "markdown",
      "metadata": {
        "id": "7cJHugoAziMU"
      },
      "source": [
        "### Student Implementation\n",
        "\n",
        "**IMPLEMENT a function for computing the nth Fibonacci number, in the code block below.**  Use any algorithm you want.  Input will be an integer n.  Your function must call out to function fibon(f1, f2), as described in the code comments.  \n",
        "\n",
        "**MODIFY the code block below to print the first ten Fibonacci numbers, and the correct call counts to fibon for each number.** NOTE - You need to fix something in the loop to get call counts to work correctly.\n",
        "\n",
        "**ADD helpful comments to your code.** You are graded on comments here, and on future assignments.\n",
        "\n",
        "Note that the call counter decorator has been added to function fibon() for you.  In future assignments, you may need to add this decorator yourself.\n"
      ]
    },
    {
      "cell_type": "code",
      "execution_count": null,
      "metadata": {
        "id": "a_95DLGHy_DQ"
      },
      "outputs": [],
      "source": [
        "# CODE CELL\n",
        "# Turn your pseudocode into working Python code here.\n",
        "\n",
        "@call_counter\n",
        "def fibon(f1, f2):\n",
        "  '''\n",
        "  Returns the next Fibonacci number in sequence, which is a sum\n",
        "  of f1 + f2.  Your code below must call out to this, in order\n",
        "  to collect call counts.\n",
        "  '''\n",
        "  return f1 + f2\n",
        "\n",
        "def fibonacci_number(n):\n",
        "  '''\n",
        "  Produces the nth Fibonacci term.  It takes an int n starting at 1, and returns \n",
        "  an integer as the nth Fibonacci number.  \n",
        "  \n",
        "  My algorithm works by FILL THIS IN HERE - PART OF A \"TOP COMMENT\" \n",
        "  REQUIRED BY ALL PROGRAMMING ASSIGNMENTS.  WRITE SOMETHING HERE!!!!!\n",
        "  '''\n",
        "  # out clause for recursion call, no infinite loop\n",
        "  if n < 0:\n",
        "    print(\"Error\")\n",
        "  \n",
        "  # makes sure we reach 0\n",
        "  elif n == 0:\n",
        "    return 0\n",
        "  \n",
        "  \n",
        "  elif n ==1 or n == 2:\n",
        "    return 1\n",
        "    \n",
        "  # Implement your algorithm here\n",
        "  # ADD GOOD COMMENTS PER THE PROGRAMMING ASSIGNMENT GUIDELINES.\n",
        "  # You must call function \"fibon\" to generate call counts.\n",
        "  # HINT1 - you do not need to call fibon for the first couple of numbers.\n",
        "  # HINT2 - if you're doing recursion, you still need to call fibon.\n",
        "  else:\n",
        "    # CHANGE PER YOUR LOGIC, but still call fibon\n",
        "    # chosen to do a recursive call approach\n",
        "    res = fibon(fibonacci_number(n-1), fibonacci_number(n-2))       \n",
        "\n",
        "    # Return a single integer value here\n",
        "    return res\n",
        "\n"
      ]
    },
    {
      "cell_type": "markdown",
      "metadata": {
        "id": "utgcglhJzlox"
      },
      "source": [
        "### Student Output"
      ]
    },
    {
      "cell_type": "code",
      "execution_count": null,
      "metadata": {
        "id": "SopBCU4lzZTW"
      },
      "outputs": [],
      "source": [
        "# RESULTS CELL\n",
        "# Clearly label the results you are displaying, either with comments or text:\n",
        "\n",
        "n = 10\n",
        "count = 0\n",
        "print(f\"The Fibonacci numbers from 1 to {n} are:\")\n",
        "therange=[i for i in range(1,n+1)]+[1] # DO NOT CHANGE\n",
        "for i in therange:\n",
        "  # IS SOMETHING MISSING HERE?  Rerun this block to see.  Add code to fix here.\n",
        "  # look up \"python format integer\" for what \"<2d\" means\n",
        "  count = 1 + count\n",
        "  arrLeng = len(therange)\n",
        "  if count == arrLeng:\n",
        "    print(\"end\")\n",
        "  else:\n",
        "    print(f\"   F{i:<2d} is {fibonacci_number(i):2d} and took {fibon.calls} calls\")\n"
      ]
    },
    {
      "cell_type": "markdown",
      "metadata": {
        "id": "JBv4hmdBu9KX"
      },
      "source": [
        "### Instructor Test Block\n",
        "Most notebooks will have a test block, like this, that the instructor will run to evaluate the correctness of your outputs.  Ensure your implementation passes this initial test.  The instructor will replace the inputs, and may replace the code, but for now, you should make sure this block runs, passes tests, and does not throw exceptions."
      ]
    },
    {
      "cell_type": "code",
      "execution_count": null,
      "metadata": {
        "id": "4gVGQB2bvYVm"
      },
      "outputs": [],
      "source": [
        "# INSTRUCTOR TEST BLOCK\n",
        "\n",
        "def myassert(case, cond):\n",
        "    if not cond:\n",
        "        print(f\"FAILED CASE, case={case}\")\n",
        "\n",
        "def myTest(case, ans, cnt=0):\n",
        "  myTest.count += 1\n",
        "  print(f\"{case:<2d}\", end=' ')\n",
        "  try:\n",
        "      res1 = fibonacci_number(case)\n",
        "      res2 = fibon.calls\n",
        "      print(f\"  {case:<2d} gives {res1:<4d} in {res2:<4d} calls\", end=' ')\n",
        "  except Exception as e:\n",
        "      print(\" \")\n",
        "      print(\"======== EXCEPTION ======== EXCEPTION ======== EXCEPTION\")\n",
        "      print(\"==== \",e)\n",
        "      res=[(-1,-1), (-1,-1), -1]\n",
        "  passed =  res1==ans\n",
        "  passed &= (not cnt or res2<cnt)   # cnt implies we expect this count\n",
        "  passed &= (not case>2 or res2>0)   # case>2 implies we expect a positive cnt\n",
        "  if passed:\n",
        "    print(\" passed\")\n",
        "    myTest.passed += 1\n",
        "  else:\n",
        "    print(\" failed\")\n",
        "    print(f\"FAILED CASE {myTest.count:02d}\")\n",
        "    print(f\"   n={case} expected {ans}, got {res1} and call counts {res2}\")\n",
        "\n",
        "myTest.count = 0\n",
        "myTest.passed = 0\n",
        "\n",
        "# Check for call counter - should be zero after completing the loop above\n",
        "myTest(1, 0, 10)\n",
        "\n",
        "# Tests\n",
        "myTest(1, 0)\n",
        "myTest(2, 1)\n",
        "myTest(3, 1)\n",
        "myTest(4, 2)\n",
        "myTest(7, 8)\n",
        "myTest(13, 144)\n",
        "\n",
        "print(f\"---- PASSED {myTest.passed} of {myTest.count} cases\")"
      ]
    },
    {
      "cell_type": "markdown",
      "metadata": {
        "id": "AxDpV0jxz8NO"
      },
      "source": [
        "## Analysis (20 pts)\n",
        "\n",
        "Consider a *step* in your algorithm to be a call to the fibon() function, and answer the question below.\n",
        "\n",
        "**If my algorithm takes $s$ steps to produce $Fib(n)$, how many steps does it take to produce $Fib(n+1)$?  My answer in terms of s and why:** give answer in terms of $s$ here.  Note, if you've done a recursive approach, this is tricky but doable.  Just think it out; try writing down a list of calls for a few numbers until you see a pattern.  Try your best.\n"
      ]
    },
    {
      "cell_type": "markdown",
      "metadata": {
        "id": "7WJMzzwGyXbC"
      },
      "source": [
        "## Retrospection (10 pts)\n",
        "Talk about how you did on this assignment.  This is just feedback to the instructor.  You can edit this cell and answer inline in non-bold.  Please go into some detail.\n",
        "* **What was the last bug you found and fixed?** my detailed discussion of a bug; this assignment might not be so bad, but there may be some tricky cases on future ones\n",
        "* **What are some late-breaking ideas you had for improving your implementation, that maybe you didn't have time to implement?** my thoughts\n",
        "* **What did you feel you learned from this assignment?** my thoughts\n",
        "* **How would you improve this assignment for future semesters?** my thoughts\n",
        "\n",
        "If there's anything else you'd like to say, feel free to write it.\n"
      ]
    },
    {
      "cell_type": "markdown",
      "metadata": {
        "id": "42FbjhQWg3IH"
      },
      "source": [
        "# Citations\n",
        "\n",
        "If you used any references, cite them above and put the full footnotes here."
      ]
    },
    {
      "cell_type": "markdown",
      "metadata": {
        "id": "9xM31XCdqG2k"
      },
      "source": [
        "# Submission Reminders\n",
        "\n",
        "Submit to Blackboard per instructions found on Blackboard.  In most cases, you just upload your ipynb file.  Before you do that, \n",
        "\n",
        "\n",
        "* \"restart and run all\" before submitting.  Make sure it runs and does not throw exceptions, even if it does not pass all the test cases.  The grader \"restarts and runs all\" and expects it to run completely through.  We have graded many assignments where the student has done only a partial run, or run things out of order, leaving around old variables that give false results, only to have it throw an exception or give a different answer when the grader runs it.\n",
        "\n",
        "* Rerun your code blocks, make sure you get the same answer each time.  The instructor's test block makes repeated calls to your code, and if you've left a stray variable that doesn't get cleared, it could affect the results.  \n",
        "\n",
        "* Make sure you've completed every task in this notebook.\n",
        "\n",
        "* If there's a plot required, make sure it's legible, axes correctly labeled, and that it \"tells a story\" about what is being shown.\n",
        "\n",
        "* Double check that you have not changed the function signature.\n",
        "\n",
        "* Include a statement of academic integrity in the block at the top.  \n",
        "\n",
        "* Put your name at the top."
      ]
    }
  ],
  "metadata": {
    "colab": {
      "collapsed_sections": [],
      "name": "PA0_fibonacciSequence.ipynb",
      "provenance": []
    },
    "kernelspec": {
      "display_name": "Python 3",
      "language": "python",
      "name": "python3"
    },
    "language_info": {
      "codemirror_mode": {
        "name": "ipython",
        "version": 3
      },
      "file_extension": ".py",
      "mimetype": "text/x-python",
      "name": "python",
      "nbconvert_exporter": "python",
      "pygments_lexer": "ipython3",
      "version": "3.10.1"
    }
  },
  "nbformat": 4,
  "nbformat_minor": 0
}
